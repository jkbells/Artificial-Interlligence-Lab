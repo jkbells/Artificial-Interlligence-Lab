{
 "cells": [
  {
   "cell_type": "code",
   "execution_count": 5,
   "id": "84ca6240",
   "metadata": {},
   "outputs": [],
   "source": [
    "import pandas as pd\n",
    "import numpy as np\n",
    "from sklearn.model_selection import train_test_split"
   ]
  },
  {
   "cell_type": "code",
   "execution_count": 6,
   "id": "165d397c",
   "metadata": {},
   "outputs": [],
   "source": [
    "df = pd.read_csv(\"Summary of Weather.csv\",delimiter = \",\")"
   ]
  },
  {
   "cell_type": "code",
   "execution_count": 7,
   "id": "103e12d2",
   "metadata": {},
   "outputs": [
    {
     "data": {
      "text/html": [
       "<div>\n",
       "<style scoped>\n",
       "    .dataframe tbody tr th:only-of-type {\n",
       "        vertical-align: middle;\n",
       "    }\n",
       "\n",
       "    .dataframe tbody tr th {\n",
       "        vertical-align: top;\n",
       "    }\n",
       "\n",
       "    .dataframe thead th {\n",
       "        text-align: right;\n",
       "    }\n",
       "</style>\n",
       "<table border=\"1\" class=\"dataframe\">\n",
       "  <thead>\n",
       "    <tr style=\"text-align: right;\">\n",
       "      <th></th>\n",
       "      <th>Precipitation</th>\n",
       "      <th>MaxTemp</th>\n",
       "      <th>MinTemp</th>\n",
       "      <th>MeanTemp</th>\n",
       "    </tr>\n",
       "  </thead>\n",
       "  <tbody>\n",
       "    <tr>\n",
       "      <th>0</th>\n",
       "      <td>1.016</td>\n",
       "      <td>25.555556</td>\n",
       "      <td>22.222222</td>\n",
       "      <td>23.888889</td>\n",
       "    </tr>\n",
       "    <tr>\n",
       "      <th>1</th>\n",
       "      <td>0</td>\n",
       "      <td>28.888889</td>\n",
       "      <td>21.666667</td>\n",
       "      <td>25.555556</td>\n",
       "    </tr>\n",
       "    <tr>\n",
       "      <th>2</th>\n",
       "      <td>2.54</td>\n",
       "      <td>26.111111</td>\n",
       "      <td>22.222222</td>\n",
       "      <td>24.444444</td>\n",
       "    </tr>\n",
       "    <tr>\n",
       "      <th>3</th>\n",
       "      <td>2.54</td>\n",
       "      <td>26.666667</td>\n",
       "      <td>22.222222</td>\n",
       "      <td>24.444444</td>\n",
       "    </tr>\n",
       "    <tr>\n",
       "      <th>4</th>\n",
       "      <td>0</td>\n",
       "      <td>26.666667</td>\n",
       "      <td>21.666667</td>\n",
       "      <td>24.444444</td>\n",
       "    </tr>\n",
       "    <tr>\n",
       "      <th>5</th>\n",
       "      <td>0</td>\n",
       "      <td>26.666667</td>\n",
       "      <td>21.666667</td>\n",
       "      <td>24.444444</td>\n",
       "    </tr>\n",
       "    <tr>\n",
       "      <th>6</th>\n",
       "      <td>T</td>\n",
       "      <td>28.333333</td>\n",
       "      <td>22.777778</td>\n",
       "      <td>25.555556</td>\n",
       "    </tr>\n",
       "    <tr>\n",
       "      <th>7</th>\n",
       "      <td>3.556</td>\n",
       "      <td>26.666667</td>\n",
       "      <td>22.222222</td>\n",
       "      <td>24.444444</td>\n",
       "    </tr>\n",
       "    <tr>\n",
       "      <th>8</th>\n",
       "      <td>T</td>\n",
       "      <td>27.222222</td>\n",
       "      <td>22.777778</td>\n",
       "      <td>25.000000</td>\n",
       "    </tr>\n",
       "    <tr>\n",
       "      <th>9</th>\n",
       "      <td>3.556</td>\n",
       "      <td>25.555556</td>\n",
       "      <td>21.666667</td>\n",
       "      <td>23.333333</td>\n",
       "    </tr>\n",
       "  </tbody>\n",
       "</table>\n",
       "</div>"
      ],
      "text/plain": [
       "  Precipitation    MaxTemp    MinTemp   MeanTemp\n",
       "0         1.016  25.555556  22.222222  23.888889\n",
       "1             0  28.888889  21.666667  25.555556\n",
       "2          2.54  26.111111  22.222222  24.444444\n",
       "3          2.54  26.666667  22.222222  24.444444\n",
       "4             0  26.666667  21.666667  24.444444\n",
       "5             0  26.666667  21.666667  24.444444\n",
       "6             T  28.333333  22.777778  25.555556\n",
       "7         3.556  26.666667  22.222222  24.444444\n",
       "8             T  27.222222  22.777778  25.000000\n",
       "9         3.556  25.555556  21.666667  23.333333"
      ]
     },
     "execution_count": 7,
     "metadata": {},
     "output_type": "execute_result"
    }
   ],
   "source": [
    "df.pop(\"Date\")\n",
    "df.pop(\"WindGustSpd\")\n",
    "df.pop(\"Snowfall\")\n",
    "df.pop(\"Station Number\")\n",
    "df.head(10)\n"
   ]
  },
  {
   "cell_type": "code",
   "execution_count": 8,
   "id": "d9ab6059",
   "metadata": {},
   "outputs": [
    {
     "data": {
      "text/html": [
       "<div>\n",
       "<style scoped>\n",
       "    .dataframe tbody tr th:only-of-type {\n",
       "        vertical-align: middle;\n",
       "    }\n",
       "\n",
       "    .dataframe tbody tr th {\n",
       "        vertical-align: top;\n",
       "    }\n",
       "\n",
       "    .dataframe thead th {\n",
       "        text-align: right;\n",
       "    }\n",
       "</style>\n",
       "<table border=\"1\" class=\"dataframe\">\n",
       "  <thead>\n",
       "    <tr style=\"text-align: right;\">\n",
       "      <th></th>\n",
       "      <th>Precipitation</th>\n",
       "      <th>MaxTemp</th>\n",
       "      <th>MinTemp</th>\n",
       "      <th>MeanTemp</th>\n",
       "    </tr>\n",
       "  </thead>\n",
       "  <tbody>\n",
       "    <tr>\n",
       "      <th>0</th>\n",
       "      <td>1.016</td>\n",
       "      <td>25.555556</td>\n",
       "      <td>22.222222</td>\n",
       "      <td>23.888889</td>\n",
       "    </tr>\n",
       "    <tr>\n",
       "      <th>1</th>\n",
       "      <td>0</td>\n",
       "      <td>28.888889</td>\n",
       "      <td>21.666667</td>\n",
       "      <td>25.555556</td>\n",
       "    </tr>\n",
       "    <tr>\n",
       "      <th>2</th>\n",
       "      <td>2.54</td>\n",
       "      <td>26.111111</td>\n",
       "      <td>22.222222</td>\n",
       "      <td>24.444444</td>\n",
       "    </tr>\n",
       "    <tr>\n",
       "      <th>3</th>\n",
       "      <td>2.54</td>\n",
       "      <td>26.666667</td>\n",
       "      <td>22.222222</td>\n",
       "      <td>24.444444</td>\n",
       "    </tr>\n",
       "    <tr>\n",
       "      <th>4</th>\n",
       "      <td>0</td>\n",
       "      <td>26.666667</td>\n",
       "      <td>21.666667</td>\n",
       "      <td>24.444444</td>\n",
       "    </tr>\n",
       "    <tr>\n",
       "      <th>5</th>\n",
       "      <td>0</td>\n",
       "      <td>26.666667</td>\n",
       "      <td>21.666667</td>\n",
       "      <td>24.444444</td>\n",
       "    </tr>\n",
       "    <tr>\n",
       "      <th>6</th>\n",
       "      <td>T</td>\n",
       "      <td>28.333333</td>\n",
       "      <td>22.777778</td>\n",
       "      <td>25.555556</td>\n",
       "    </tr>\n",
       "    <tr>\n",
       "      <th>7</th>\n",
       "      <td>3.556</td>\n",
       "      <td>26.666667</td>\n",
       "      <td>22.222222</td>\n",
       "      <td>24.444444</td>\n",
       "    </tr>\n",
       "    <tr>\n",
       "      <th>8</th>\n",
       "      <td>T</td>\n",
       "      <td>27.222222</td>\n",
       "      <td>22.777778</td>\n",
       "      <td>25.000000</td>\n",
       "    </tr>\n",
       "    <tr>\n",
       "      <th>9</th>\n",
       "      <td>3.556</td>\n",
       "      <td>25.555556</td>\n",
       "      <td>21.666667</td>\n",
       "      <td>23.333333</td>\n",
       "    </tr>\n",
       "    <tr>\n",
       "      <th>10</th>\n",
       "      <td>0</td>\n",
       "      <td>25.555556</td>\n",
       "      <td>21.666667</td>\n",
       "      <td>23.333333</td>\n",
       "    </tr>\n",
       "    <tr>\n",
       "      <th>11</th>\n",
       "      <td>0.508</td>\n",
       "      <td>24.444444</td>\n",
       "      <td>22.222222</td>\n",
       "      <td>23.333333</td>\n",
       "    </tr>\n",
       "    <tr>\n",
       "      <th>12</th>\n",
       "      <td>0</td>\n",
       "      <td>26.111111</td>\n",
       "      <td>21.666667</td>\n",
       "      <td>23.888889</td>\n",
       "    </tr>\n",
       "    <tr>\n",
       "      <th>13</th>\n",
       "      <td>0</td>\n",
       "      <td>26.111111</td>\n",
       "      <td>22.222222</td>\n",
       "      <td>24.444444</td>\n",
       "    </tr>\n",
       "    <tr>\n",
       "      <th>14</th>\n",
       "      <td>0</td>\n",
       "      <td>25.555556</td>\n",
       "      <td>22.777778</td>\n",
       "      <td>24.444444</td>\n",
       "    </tr>\n",
       "  </tbody>\n",
       "</table>\n",
       "</div>"
      ],
      "text/plain": [
       "   Precipitation    MaxTemp    MinTemp   MeanTemp\n",
       "0          1.016  25.555556  22.222222  23.888889\n",
       "1              0  28.888889  21.666667  25.555556\n",
       "2           2.54  26.111111  22.222222  24.444444\n",
       "3           2.54  26.666667  22.222222  24.444444\n",
       "4              0  26.666667  21.666667  24.444444\n",
       "5              0  26.666667  21.666667  24.444444\n",
       "6              T  28.333333  22.777778  25.555556\n",
       "7          3.556  26.666667  22.222222  24.444444\n",
       "8              T  27.222222  22.777778  25.000000\n",
       "9          3.556  25.555556  21.666667  23.333333\n",
       "10             0  25.555556  21.666667  23.333333\n",
       "11         0.508  24.444444  22.222222  23.333333\n",
       "12             0  26.111111  21.666667  23.888889\n",
       "13             0  26.111111  22.222222  24.444444\n",
       "14             0  25.555556  22.777778  24.444444"
      ]
     },
     "execution_count": 8,
     "metadata": {},
     "output_type": "execute_result"
    }
   ],
   "source": [
    "df.head(15)"
   ]
  },
  {
   "cell_type": "code",
   "execution_count": 9,
   "id": "567f5836",
   "metadata": {},
   "outputs": [],
   "source": [
    "df[\"Precipitation\"].replace({'T': 0},inplace = True)"
   ]
  },
  {
   "cell_type": "code",
   "execution_count": 10,
   "id": "f2110a28",
   "metadata": {},
   "outputs": [
    {
     "data": {
      "text/html": [
       "<div>\n",
       "<style scoped>\n",
       "    .dataframe tbody tr th:only-of-type {\n",
       "        vertical-align: middle;\n",
       "    }\n",
       "\n",
       "    .dataframe tbody tr th {\n",
       "        vertical-align: top;\n",
       "    }\n",
       "\n",
       "    .dataframe thead th {\n",
       "        text-align: right;\n",
       "    }\n",
       "</style>\n",
       "<table border=\"1\" class=\"dataframe\">\n",
       "  <thead>\n",
       "    <tr style=\"text-align: right;\">\n",
       "      <th></th>\n",
       "      <th>Precipitation</th>\n",
       "      <th>MaxTemp</th>\n",
       "      <th>MinTemp</th>\n",
       "      <th>MeanTemp</th>\n",
       "    </tr>\n",
       "  </thead>\n",
       "  <tbody>\n",
       "    <tr>\n",
       "      <th>0</th>\n",
       "      <td>1.016</td>\n",
       "      <td>25.555556</td>\n",
       "      <td>22.222222</td>\n",
       "      <td>23.888889</td>\n",
       "    </tr>\n",
       "    <tr>\n",
       "      <th>1</th>\n",
       "      <td>0</td>\n",
       "      <td>28.888889</td>\n",
       "      <td>21.666667</td>\n",
       "      <td>25.555556</td>\n",
       "    </tr>\n",
       "    <tr>\n",
       "      <th>2</th>\n",
       "      <td>2.54</td>\n",
       "      <td>26.111111</td>\n",
       "      <td>22.222222</td>\n",
       "      <td>24.444444</td>\n",
       "    </tr>\n",
       "    <tr>\n",
       "      <th>3</th>\n",
       "      <td>2.54</td>\n",
       "      <td>26.666667</td>\n",
       "      <td>22.222222</td>\n",
       "      <td>24.444444</td>\n",
       "    </tr>\n",
       "    <tr>\n",
       "      <th>4</th>\n",
       "      <td>0</td>\n",
       "      <td>26.666667</td>\n",
       "      <td>21.666667</td>\n",
       "      <td>24.444444</td>\n",
       "    </tr>\n",
       "    <tr>\n",
       "      <th>5</th>\n",
       "      <td>0</td>\n",
       "      <td>26.666667</td>\n",
       "      <td>21.666667</td>\n",
       "      <td>24.444444</td>\n",
       "    </tr>\n",
       "    <tr>\n",
       "      <th>6</th>\n",
       "      <td>0</td>\n",
       "      <td>28.333333</td>\n",
       "      <td>22.777778</td>\n",
       "      <td>25.555556</td>\n",
       "    </tr>\n",
       "    <tr>\n",
       "      <th>7</th>\n",
       "      <td>3.556</td>\n",
       "      <td>26.666667</td>\n",
       "      <td>22.222222</td>\n",
       "      <td>24.444444</td>\n",
       "    </tr>\n",
       "    <tr>\n",
       "      <th>8</th>\n",
       "      <td>0</td>\n",
       "      <td>27.222222</td>\n",
       "      <td>22.777778</td>\n",
       "      <td>25.000000</td>\n",
       "    </tr>\n",
       "    <tr>\n",
       "      <th>9</th>\n",
       "      <td>3.556</td>\n",
       "      <td>25.555556</td>\n",
       "      <td>21.666667</td>\n",
       "      <td>23.333333</td>\n",
       "    </tr>\n",
       "  </tbody>\n",
       "</table>\n",
       "</div>"
      ],
      "text/plain": [
       "  Precipitation    MaxTemp    MinTemp   MeanTemp\n",
       "0         1.016  25.555556  22.222222  23.888889\n",
       "1             0  28.888889  21.666667  25.555556\n",
       "2          2.54  26.111111  22.222222  24.444444\n",
       "3          2.54  26.666667  22.222222  24.444444\n",
       "4             0  26.666667  21.666667  24.444444\n",
       "5             0  26.666667  21.666667  24.444444\n",
       "6             0  28.333333  22.777778  25.555556\n",
       "7         3.556  26.666667  22.222222  24.444444\n",
       "8             0  27.222222  22.777778  25.000000\n",
       "9         3.556  25.555556  21.666667  23.333333"
      ]
     },
     "execution_count": 10,
     "metadata": {},
     "output_type": "execute_result"
    }
   ],
   "source": [
    "df.head(10)\n"
   ]
  },
  {
   "cell_type": "code",
   "execution_count": 12,
   "id": "04e6cb13",
   "metadata": {},
   "outputs": [],
   "source": [
    "X_train, X_test, y_train, y_test = train_test_split(df[[\"MaxTemp\", \"MinTemp\", \"MeanTemp\"]], df[\"Precipitation\"], test_size=0.33, random_state=42)"
   ]
  },
  {
   "cell_type": "code",
   "execution_count": 13,
   "id": "2c71ca45",
   "metadata": {},
   "outputs": [
    {
     "data": {
      "text/plain": [
       "(          MaxTemp    MinTemp   MeanTemp\n",
       " 4612    30.000000  20.555556  25.555556\n",
       " 44904   -1.111111  -7.777778  -4.444444\n",
       " 117429  25.000000   2.222222  13.333333\n",
       " 37283   19.444444  11.666667  15.555556\n",
       " 62585   34.444444  12.777778  23.333333,\n",
       " (79756, 3))"
      ]
     },
     "execution_count": 13,
     "metadata": {},
     "output_type": "execute_result"
    }
   ],
   "source": [
    "X_train.head(), X_train.shape"
   ]
  },
  {
   "cell_type": "code",
   "execution_count": 14,
   "id": "586fe88e",
   "metadata": {},
   "outputs": [
    {
     "data": {
      "text/plain": [
       "(4612          0\n",
       " 44904         0\n",
       " 117429        0\n",
       " 37283         0\n",
       " 62585         0\n",
       "           ...  \n",
       " 76820         0\n",
       " 110268    0.254\n",
       " 103694        0\n",
       " 860           0\n",
       " 15795     4.318\n",
       " Name: Precipitation, Length: 79756, dtype: object,\n",
       " (79756,))"
      ]
     },
     "execution_count": 14,
     "metadata": {},
     "output_type": "execute_result"
    }
   ],
   "source": [
    "\n",
    "y_train, y_train.shape"
   ]
  },
  {
   "cell_type": "code",
   "execution_count": 15,
   "id": "512d4790",
   "metadata": {},
   "outputs": [
    {
     "data": {
      "text/plain": [
       "(         MaxTemp    MinTemp   MeanTemp\n",
       " 57486  30.000000  18.333333  24.444444\n",
       " 53581  28.888889  21.111111  25.000000\n",
       " 36841  28.333333  21.111111  24.444444\n",
       " 73208  33.333333  26.666667  30.000000\n",
       " 87531  38.888889  27.222222  33.333333\n",
       " ...          ...        ...        ...\n",
       " 77773  32.777778  23.333333  27.777778\n",
       " 57259  25.555556  16.666667  21.111111\n",
       " 52162  26.666667  20.000000  23.333333\n",
       " 56000  28.333333  21.666667  25.000000\n",
       " 12107  31.666667  21.666667  26.666667\n",
       " \n",
       " [39284 rows x 3 columns],\n",
       " (39284, 3))"
      ]
     },
     "execution_count": 15,
     "metadata": {},
     "output_type": "execute_result"
    }
   ],
   "source": [
    "X_test,X_test.shape"
   ]
  },
  {
   "cell_type": "code",
   "execution_count": 16,
   "id": "2d92c9c0",
   "metadata": {},
   "outputs": [
    {
     "data": {
      "text/plain": [
       "(57486    0.508\n",
       " 53581        0\n",
       " 36841        0\n",
       " 73208    6.096\n",
       " 87531        0\n",
       "          ...  \n",
       " 77773    8.128\n",
       " 57259    2.794\n",
       " 52162    3.048\n",
       " 56000        0\n",
       " 12107        0\n",
       " Name: Precipitation, Length: 39284, dtype: object,\n",
       " (39284,))"
      ]
     },
     "execution_count": 16,
     "metadata": {},
     "output_type": "execute_result"
    }
   ],
   "source": [
    "y_test,y_test.shape"
   ]
  },
  {
   "cell_type": "code",
   "execution_count": 18,
   "id": "a39d165d",
   "metadata": {},
   "outputs": [],
   "source": [
    "X_train = np.array(X_train)\n",
    "X_test = np.array(X_test)\n",
    "y_train = np.array(y_train)\n",
    "y_test = np.array(y_test)"
   ]
  },
  {
   "cell_type": "code",
   "execution_count": 19,
   "id": "2fb9e984",
   "metadata": {},
   "outputs": [
    {
     "data": {
      "text/plain": [
       "(3, 1)"
      ]
     },
     "execution_count": 19,
     "metadata": {},
     "output_type": "execute_result"
    }
   ],
   "source": [
    "W = np.random.rand(3,1)\n",
    "W.shape"
   ]
  },
  {
   "cell_type": "code",
   "execution_count": 20,
   "id": "61fa2a65",
   "metadata": {},
   "outputs": [
    {
     "data": {
      "text/plain": [
       "0.8447326101704127"
      ]
     },
     "execution_count": 20,
     "metadata": {},
     "output_type": "execute_result"
    }
   ],
   "source": [
    "b = np.random.rand()\n",
    "b\n"
   ]
  },
  {
   "cell_type": "code",
   "execution_count": 21,
   "id": "e4d03047",
   "metadata": {},
   "outputs": [
    {
     "data": {
      "text/plain": [
       "((3, 79756), (3, 39284))"
      ]
     },
     "execution_count": 21,
     "metadata": {},
     "output_type": "execute_result"
    }
   ],
   "source": [
    "X_train = X_train.T\n",
    "X_test=X_test.T\n",
    "X_train.shape,X_test.shape"
   ]
  },
  {
   "cell_type": "code",
   "execution_count": 22,
   "id": "ed71cca2",
   "metadata": {},
   "outputs": [],
   "source": [
    "X_train=X_train.astype(float)\n",
    "y_train=y_train.astype(float)"
   ]
  },
  {
   "cell_type": "code",
   "execution_count": 23,
   "id": "f9997234",
   "metadata": {},
   "outputs": [],
   "source": [
    "def GD(A,B):\n",
    "    J=0\n",
    "    for i in range(len(y_train)):\n",
    "        J=J+(1/len(y_train))*(A-B)\n",
    "    return J"
   ]
  },
  {
   "cell_type": "code",
   "execution_count": 24,
   "id": "d726c8a4",
   "metadata": {},
   "outputs": [],
   "source": [
    "def sigmoid(z):\n",
    "    return 1/(1 + np.exp(-z))"
   ]
  },
  {
   "cell_type": "code",
   "execution_count": 25,
   "id": "6a737aff",
   "metadata": {},
   "outputs": [
    {
     "name": "stdout",
     "output_type": "stream",
     "text": [
      "124.05243709634384\n",
      "124.05581860996037\n",
      "124.0578098833442\n",
      "124.05784413782035\n",
      "124.0577939848538\n",
      "124.0577939848538\n",
      "124.0578007555043\n",
      "124.05778821726265\n",
      "124.05778821726265\n"
     ]
    },
    {
     "name": "stderr",
     "output_type": "stream",
     "text": [
      "C:\\Users\\jawad\\AppData\\Local\\Temp/ipykernel_12668/3692174223.py:2: RuntimeWarning: overflow encountered in exp\n",
      "  return 1/(1 + np.exp(-z))\n",
      "C:\\Users\\jawad\\AppData\\Local\\Temp/ipykernel_12668/3692174223.py:2: RuntimeWarning: overflow encountered in exp\n",
      "  return 1/(1 + np.exp(-z))\n",
      "C:\\Users\\jawad\\AppData\\Local\\Temp/ipykernel_12668/3692174223.py:2: RuntimeWarning: overflow encountered in exp\n",
      "  return 1/(1 + np.exp(-z))\n",
      "C:\\Users\\jawad\\AppData\\Local\\Temp/ipykernel_12668/3692174223.py:2: RuntimeWarning: overflow encountered in exp\n",
      "  return 1/(1 + np.exp(-z))\n"
     ]
    },
    {
     "name": "stdout",
     "output_type": "stream",
     "text": [
      "124.05778821726265\n",
      "124.05778821726265\n",
      "124.05778821726265\n",
      "124.05778821726265\n",
      "124.05778821726265\n"
     ]
    },
    {
     "name": "stderr",
     "output_type": "stream",
     "text": [
      "C:\\Users\\jawad\\AppData\\Local\\Temp/ipykernel_12668/3692174223.py:2: RuntimeWarning: overflow encountered in exp\n",
      "  return 1/(1 + np.exp(-z))\n",
      "C:\\Users\\jawad\\AppData\\Local\\Temp/ipykernel_12668/3692174223.py:2: RuntimeWarning: overflow encountered in exp\n",
      "  return 1/(1 + np.exp(-z))\n",
      "C:\\Users\\jawad\\AppData\\Local\\Temp/ipykernel_12668/3692174223.py:2: RuntimeWarning: overflow encountered in exp\n",
      "  return 1/(1 + np.exp(-z))\n"
     ]
    },
    {
     "name": "stdout",
     "output_type": "stream",
     "text": [
      "124.05778821726265\n",
      "124.05778821726265\n",
      "124.05778821726265\n",
      "124.05778821726265\n"
     ]
    },
    {
     "name": "stderr",
     "output_type": "stream",
     "text": [
      "C:\\Users\\jawad\\AppData\\Local\\Temp/ipykernel_12668/3692174223.py:2: RuntimeWarning: overflow encountered in exp\n",
      "  return 1/(1 + np.exp(-z))\n",
      "C:\\Users\\jawad\\AppData\\Local\\Temp/ipykernel_12668/3692174223.py:2: RuntimeWarning: overflow encountered in exp\n",
      "  return 1/(1 + np.exp(-z))\n",
      "C:\\Users\\jawad\\AppData\\Local\\Temp/ipykernel_12668/3692174223.py:2: RuntimeWarning: overflow encountered in exp\n",
      "  return 1/(1 + np.exp(-z))\n",
      "C:\\Users\\jawad\\AppData\\Local\\Temp/ipykernel_12668/3692174223.py:2: RuntimeWarning: overflow encountered in exp\n",
      "  return 1/(1 + np.exp(-z))\n"
     ]
    },
    {
     "name": "stdout",
     "output_type": "stream",
     "text": [
      "124.05778821726265\n",
      "124.05778821726265\n",
      "124.05778821726265\n",
      "124.05778821726265\n",
      "124.05778821726265\n"
     ]
    },
    {
     "name": "stderr",
     "output_type": "stream",
     "text": [
      "C:\\Users\\jawad\\AppData\\Local\\Temp/ipykernel_12668/3692174223.py:2: RuntimeWarning: overflow encountered in exp\n",
      "  return 1/(1 + np.exp(-z))\n",
      "C:\\Users\\jawad\\AppData\\Local\\Temp/ipykernel_12668/3692174223.py:2: RuntimeWarning: overflow encountered in exp\n",
      "  return 1/(1 + np.exp(-z))\n",
      "C:\\Users\\jawad\\AppData\\Local\\Temp/ipykernel_12668/3692174223.py:2: RuntimeWarning: overflow encountered in exp\n",
      "  return 1/(1 + np.exp(-z))\n",
      "C:\\Users\\jawad\\AppData\\Local\\Temp/ipykernel_12668/3692174223.py:2: RuntimeWarning: overflow encountered in exp\n",
      "  return 1/(1 + np.exp(-z))\n",
      "C:\\Users\\jawad\\AppData\\Local\\Temp/ipykernel_12668/3692174223.py:2: RuntimeWarning: overflow encountered in exp\n",
      "  return 1/(1 + np.exp(-z))\n",
      "C:\\Users\\jawad\\AppData\\Local\\Temp/ipykernel_12668/3692174223.py:2: RuntimeWarning: overflow encountered in exp\n",
      "  return 1/(1 + np.exp(-z))\n",
      "C:\\Users\\jawad\\AppData\\Local\\Temp/ipykernel_12668/3692174223.py:2: RuntimeWarning: overflow encountered in exp\n",
      "  return 1/(1 + np.exp(-z))\n",
      "C:\\Users\\jawad\\AppData\\Local\\Temp/ipykernel_12668/3692174223.py:2: RuntimeWarning: overflow encountered in exp\n",
      "  return 1/(1 + np.exp(-z))\n"
     ]
    },
    {
     "name": "stdout",
     "output_type": "stream",
     "text": [
      "124.05778821726265\n",
      "124.05778821726265\n",
      "124.05778821726265\n",
      "124.05778821726265\n"
     ]
    },
    {
     "name": "stderr",
     "output_type": "stream",
     "text": [
      "C:\\Users\\jawad\\AppData\\Local\\Temp/ipykernel_12668/3692174223.py:2: RuntimeWarning: overflow encountered in exp\n",
      "  return 1/(1 + np.exp(-z))\n",
      "C:\\Users\\jawad\\AppData\\Local\\Temp/ipykernel_12668/3692174223.py:2: RuntimeWarning: overflow encountered in exp\n",
      "  return 1/(1 + np.exp(-z))\n",
      "C:\\Users\\jawad\\AppData\\Local\\Temp/ipykernel_12668/3692174223.py:2: RuntimeWarning: overflow encountered in exp\n",
      "  return 1/(1 + np.exp(-z))\n",
      "C:\\Users\\jawad\\AppData\\Local\\Temp/ipykernel_12668/3692174223.py:2: RuntimeWarning: overflow encountered in exp\n",
      "  return 1/(1 + np.exp(-z))\n"
     ]
    },
    {
     "name": "stdout",
     "output_type": "stream",
     "text": [
      "124.05778821726265\n",
      "124.05778821726265\n",
      "124.05778821726265\n",
      "124.05778821726265\n",
      "124.05778821726265\n"
     ]
    },
    {
     "name": "stderr",
     "output_type": "stream",
     "text": [
      "C:\\Users\\jawad\\AppData\\Local\\Temp/ipykernel_12668/3692174223.py:2: RuntimeWarning: overflow encountered in exp\n",
      "  return 1/(1 + np.exp(-z))\n",
      "C:\\Users\\jawad\\AppData\\Local\\Temp/ipykernel_12668/3692174223.py:2: RuntimeWarning: overflow encountered in exp\n",
      "  return 1/(1 + np.exp(-z))\n",
      "C:\\Users\\jawad\\AppData\\Local\\Temp/ipykernel_12668/3692174223.py:2: RuntimeWarning: overflow encountered in exp\n",
      "  return 1/(1 + np.exp(-z))\n",
      "C:\\Users\\jawad\\AppData\\Local\\Temp/ipykernel_12668/3692174223.py:2: RuntimeWarning: overflow encountered in exp\n",
      "  return 1/(1 + np.exp(-z))\n"
     ]
    },
    {
     "name": "stdout",
     "output_type": "stream",
     "text": [
      "124.05778821726265\n",
      "124.05778821726265\n",
      "124.05778821726265\n",
      "124.05778821726265\n"
     ]
    },
    {
     "name": "stderr",
     "output_type": "stream",
     "text": [
      "C:\\Users\\jawad\\AppData\\Local\\Temp/ipykernel_12668/3692174223.py:2: RuntimeWarning: overflow encountered in exp\n",
      "  return 1/(1 + np.exp(-z))\n",
      "C:\\Users\\jawad\\AppData\\Local\\Temp/ipykernel_12668/3692174223.py:2: RuntimeWarning: overflow encountered in exp\n",
      "  return 1/(1 + np.exp(-z))\n",
      "C:\\Users\\jawad\\AppData\\Local\\Temp/ipykernel_12668/3692174223.py:2: RuntimeWarning: overflow encountered in exp\n",
      "  return 1/(1 + np.exp(-z))\n",
      "C:\\Users\\jawad\\AppData\\Local\\Temp/ipykernel_12668/3692174223.py:2: RuntimeWarning: overflow encountered in exp\n",
      "  return 1/(1 + np.exp(-z))\n"
     ]
    },
    {
     "name": "stdout",
     "output_type": "stream",
     "text": [
      "124.05778821726265\n",
      "124.05778821726265\n",
      "124.05778821726265\n",
      "124.05778821726265\n"
     ]
    },
    {
     "name": "stderr",
     "output_type": "stream",
     "text": [
      "C:\\Users\\jawad\\AppData\\Local\\Temp/ipykernel_12668/3692174223.py:2: RuntimeWarning: overflow encountered in exp\n",
      "  return 1/(1 + np.exp(-z))\n",
      "C:\\Users\\jawad\\AppData\\Local\\Temp/ipykernel_12668/3692174223.py:2: RuntimeWarning: overflow encountered in exp\n",
      "  return 1/(1 + np.exp(-z))\n",
      "C:\\Users\\jawad\\AppData\\Local\\Temp/ipykernel_12668/3692174223.py:2: RuntimeWarning: overflow encountered in exp\n",
      "  return 1/(1 + np.exp(-z))\n"
     ]
    },
    {
     "name": "stdout",
     "output_type": "stream",
     "text": [
      "124.05778821726265\n",
      "124.05778821726265\n",
      "124.05778821726265\n",
      "124.05778821726265\n"
     ]
    },
    {
     "name": "stderr",
     "output_type": "stream",
     "text": [
      "C:\\Users\\jawad\\AppData\\Local\\Temp/ipykernel_12668/3692174223.py:2: RuntimeWarning: overflow encountered in exp\n",
      "  return 1/(1 + np.exp(-z))\n",
      "C:\\Users\\jawad\\AppData\\Local\\Temp/ipykernel_12668/3692174223.py:2: RuntimeWarning: overflow encountered in exp\n",
      "  return 1/(1 + np.exp(-z))\n",
      "C:\\Users\\jawad\\AppData\\Local\\Temp/ipykernel_12668/3692174223.py:2: RuntimeWarning: overflow encountered in exp\n",
      "  return 1/(1 + np.exp(-z))\n"
     ]
    },
    {
     "name": "stdout",
     "output_type": "stream",
     "text": [
      "124.05778821726265\n",
      "124.05778821726265\n",
      "124.05778821726265\n",
      "124.05778821726265\n"
     ]
    },
    {
     "name": "stderr",
     "output_type": "stream",
     "text": [
      "C:\\Users\\jawad\\AppData\\Local\\Temp/ipykernel_12668/3692174223.py:2: RuntimeWarning: overflow encountered in exp\n",
      "  return 1/(1 + np.exp(-z))\n",
      "C:\\Users\\jawad\\AppData\\Local\\Temp/ipykernel_12668/3692174223.py:2: RuntimeWarning: overflow encountered in exp\n",
      "  return 1/(1 + np.exp(-z))\n",
      "C:\\Users\\jawad\\AppData\\Local\\Temp/ipykernel_12668/3692174223.py:2: RuntimeWarning: overflow encountered in exp\n",
      "  return 1/(1 + np.exp(-z))\n",
      "C:\\Users\\jawad\\AppData\\Local\\Temp/ipykernel_12668/3692174223.py:2: RuntimeWarning: overflow encountered in exp\n",
      "  return 1/(1 + np.exp(-z))\n"
     ]
    },
    {
     "name": "stdout",
     "output_type": "stream",
     "text": [
      "124.05778821726265\n",
      "124.05778821726265\n",
      "124.05778821726265\n",
      "124.05778821726265\n",
      "124.05778821726265\n"
     ]
    },
    {
     "name": "stderr",
     "output_type": "stream",
     "text": [
      "C:\\Users\\jawad\\AppData\\Local\\Temp/ipykernel_12668/3692174223.py:2: RuntimeWarning: overflow encountered in exp\n",
      "  return 1/(1 + np.exp(-z))\n",
      "C:\\Users\\jawad\\AppData\\Local\\Temp/ipykernel_12668/3692174223.py:2: RuntimeWarning: overflow encountered in exp\n",
      "  return 1/(1 + np.exp(-z))\n",
      "C:\\Users\\jawad\\AppData\\Local\\Temp/ipykernel_12668/3692174223.py:2: RuntimeWarning: overflow encountered in exp\n",
      "  return 1/(1 + np.exp(-z))\n",
      "C:\\Users\\jawad\\AppData\\Local\\Temp/ipykernel_12668/3692174223.py:2: RuntimeWarning: overflow encountered in exp\n",
      "  return 1/(1 + np.exp(-z))\n",
      "C:\\Users\\jawad\\AppData\\Local\\Temp/ipykernel_12668/3692174223.py:2: RuntimeWarning: overflow encountered in exp\n",
      "  return 1/(1 + np.exp(-z))\n",
      "C:\\Users\\jawad\\AppData\\Local\\Temp/ipykernel_12668/3692174223.py:2: RuntimeWarning: overflow encountered in exp\n",
      "  return 1/(1 + np.exp(-z))\n",
      "C:\\Users\\jawad\\AppData\\Local\\Temp/ipykernel_12668/3692174223.py:2: RuntimeWarning: overflow encountered in exp\n",
      "  return 1/(1 + np.exp(-z))\n",
      "C:\\Users\\jawad\\AppData\\Local\\Temp/ipykernel_12668/3692174223.py:2: RuntimeWarning: overflow encountered in exp\n",
      "  return 1/(1 + np.exp(-z))\n"
     ]
    },
    {
     "name": "stdout",
     "output_type": "stream",
     "text": [
      "124.05778821726265\n",
      "124.05778821726265\n",
      "124.05778821726265\n",
      "124.05778821726265\n",
      "124.05778821726265\n"
     ]
    },
    {
     "name": "stderr",
     "output_type": "stream",
     "text": [
      "C:\\Users\\jawad\\AppData\\Local\\Temp/ipykernel_12668/3692174223.py:2: RuntimeWarning: overflow encountered in exp\n",
      "  return 1/(1 + np.exp(-z))\n",
      "C:\\Users\\jawad\\AppData\\Local\\Temp/ipykernel_12668/3692174223.py:2: RuntimeWarning: overflow encountered in exp\n",
      "  return 1/(1 + np.exp(-z))\n",
      "C:\\Users\\jawad\\AppData\\Local\\Temp/ipykernel_12668/3692174223.py:2: RuntimeWarning: overflow encountered in exp\n",
      "  return 1/(1 + np.exp(-z))\n",
      "C:\\Users\\jawad\\AppData\\Local\\Temp/ipykernel_12668/3692174223.py:2: RuntimeWarning: overflow encountered in exp\n",
      "  return 1/(1 + np.exp(-z))\n"
     ]
    },
    {
     "name": "stdout",
     "output_type": "stream",
     "text": [
      "124.05778821726265\n",
      "124.05778821726265\n",
      "124.05778821726265\n",
      "124.05778821726265\n"
     ]
    },
    {
     "name": "stderr",
     "output_type": "stream",
     "text": [
      "C:\\Users\\jawad\\AppData\\Local\\Temp/ipykernel_12668/3692174223.py:2: RuntimeWarning: overflow encountered in exp\n",
      "  return 1/(1 + np.exp(-z))\n",
      "C:\\Users\\jawad\\AppData\\Local\\Temp/ipykernel_12668/3692174223.py:2: RuntimeWarning: overflow encountered in exp\n",
      "  return 1/(1 + np.exp(-z))\n",
      "C:\\Users\\jawad\\AppData\\Local\\Temp/ipykernel_12668/3692174223.py:2: RuntimeWarning: overflow encountered in exp\n",
      "  return 1/(1 + np.exp(-z))\n",
      "C:\\Users\\jawad\\AppData\\Local\\Temp/ipykernel_12668/3692174223.py:2: RuntimeWarning: overflow encountered in exp\n",
      "  return 1/(1 + np.exp(-z))\n"
     ]
    },
    {
     "name": "stdout",
     "output_type": "stream",
     "text": [
      "124.05778821726265\n",
      "124.05778821726265\n",
      "124.05778821726265\n",
      "124.05778821726265\n"
     ]
    },
    {
     "name": "stderr",
     "output_type": "stream",
     "text": [
      "C:\\Users\\jawad\\AppData\\Local\\Temp/ipykernel_12668/3692174223.py:2: RuntimeWarning: overflow encountered in exp\n",
      "  return 1/(1 + np.exp(-z))\n",
      "C:\\Users\\jawad\\AppData\\Local\\Temp/ipykernel_12668/3692174223.py:2: RuntimeWarning: overflow encountered in exp\n",
      "  return 1/(1 + np.exp(-z))\n",
      "C:\\Users\\jawad\\AppData\\Local\\Temp/ipykernel_12668/3692174223.py:2: RuntimeWarning: overflow encountered in exp\n",
      "  return 1/(1 + np.exp(-z))\n"
     ]
    },
    {
     "name": "stdout",
     "output_type": "stream",
     "text": [
      "124.05778821726265\n",
      "124.05778821726265\n",
      "124.05778821726265\n",
      "124.05778821726265\n"
     ]
    },
    {
     "name": "stderr",
     "output_type": "stream",
     "text": [
      "C:\\Users\\jawad\\AppData\\Local\\Temp/ipykernel_12668/3692174223.py:2: RuntimeWarning: overflow encountered in exp\n",
      "  return 1/(1 + np.exp(-z))\n",
      "C:\\Users\\jawad\\AppData\\Local\\Temp/ipykernel_12668/3692174223.py:2: RuntimeWarning: overflow encountered in exp\n",
      "  return 1/(1 + np.exp(-z))\n",
      "C:\\Users\\jawad\\AppData\\Local\\Temp/ipykernel_12668/3692174223.py:2: RuntimeWarning: overflow encountered in exp\n",
      "  return 1/(1 + np.exp(-z))\n",
      "C:\\Users\\jawad\\AppData\\Local\\Temp/ipykernel_12668/3692174223.py:2: RuntimeWarning: overflow encountered in exp\n",
      "  return 1/(1 + np.exp(-z))\n"
     ]
    },
    {
     "name": "stdout",
     "output_type": "stream",
     "text": [
      "124.05778821726265\n",
      "124.05778821726265\n",
      "124.05778821726265\n",
      "124.05778821726265\n",
      "124.05778821726265\n"
     ]
    },
    {
     "name": "stderr",
     "output_type": "stream",
     "text": [
      "C:\\Users\\jawad\\AppData\\Local\\Temp/ipykernel_12668/3692174223.py:2: RuntimeWarning: overflow encountered in exp\n",
      "  return 1/(1 + np.exp(-z))\n",
      "C:\\Users\\jawad\\AppData\\Local\\Temp/ipykernel_12668/3692174223.py:2: RuntimeWarning: overflow encountered in exp\n",
      "  return 1/(1 + np.exp(-z))\n",
      "C:\\Users\\jawad\\AppData\\Local\\Temp/ipykernel_12668/3692174223.py:2: RuntimeWarning: overflow encountered in exp\n",
      "  return 1/(1 + np.exp(-z))\n",
      "C:\\Users\\jawad\\AppData\\Local\\Temp/ipykernel_12668/3692174223.py:2: RuntimeWarning: overflow encountered in exp\n",
      "  return 1/(1 + np.exp(-z))\n"
     ]
    },
    {
     "name": "stdout",
     "output_type": "stream",
     "text": [
      "124.05778821726265\n",
      "124.05778821726265\n",
      "124.05778821726265\n",
      "124.05778821726265\n"
     ]
    },
    {
     "name": "stderr",
     "output_type": "stream",
     "text": [
      "C:\\Users\\jawad\\AppData\\Local\\Temp/ipykernel_12668/3692174223.py:2: RuntimeWarning: overflow encountered in exp\n",
      "  return 1/(1 + np.exp(-z))\n",
      "C:\\Users\\jawad\\AppData\\Local\\Temp/ipykernel_12668/3692174223.py:2: RuntimeWarning: overflow encountered in exp\n",
      "  return 1/(1 + np.exp(-z))\n",
      "C:\\Users\\jawad\\AppData\\Local\\Temp/ipykernel_12668/3692174223.py:2: RuntimeWarning: overflow encountered in exp\n",
      "  return 1/(1 + np.exp(-z))\n",
      "C:\\Users\\jawad\\AppData\\Local\\Temp/ipykernel_12668/3692174223.py:2: RuntimeWarning: overflow encountered in exp\n",
      "  return 1/(1 + np.exp(-z))\n"
     ]
    },
    {
     "name": "stdout",
     "output_type": "stream",
     "text": [
      "124.05778821726265\n",
      "124.05778821726265\n",
      "124.05778821726265\n",
      "124.05778821726265\n"
     ]
    },
    {
     "name": "stderr",
     "output_type": "stream",
     "text": [
      "C:\\Users\\jawad\\AppData\\Local\\Temp/ipykernel_12668/3692174223.py:2: RuntimeWarning: overflow encountered in exp\n",
      "  return 1/(1 + np.exp(-z))\n",
      "C:\\Users\\jawad\\AppData\\Local\\Temp/ipykernel_12668/3692174223.py:2: RuntimeWarning: overflow encountered in exp\n",
      "  return 1/(1 + np.exp(-z))\n",
      "C:\\Users\\jawad\\AppData\\Local\\Temp/ipykernel_12668/3692174223.py:2: RuntimeWarning: overflow encountered in exp\n",
      "  return 1/(1 + np.exp(-z))\n",
      "C:\\Users\\jawad\\AppData\\Local\\Temp/ipykernel_12668/3692174223.py:2: RuntimeWarning: overflow encountered in exp\n",
      "  return 1/(1 + np.exp(-z))\n"
     ]
    },
    {
     "name": "stdout",
     "output_type": "stream",
     "text": [
      "124.05778821726265\n",
      "124.05778821726265\n",
      "124.05778821726265\n",
      "124.05778821726265\n"
     ]
    },
    {
     "name": "stderr",
     "output_type": "stream",
     "text": [
      "C:\\Users\\jawad\\AppData\\Local\\Temp/ipykernel_12668/3692174223.py:2: RuntimeWarning: overflow encountered in exp\n",
      "  return 1/(1 + np.exp(-z))\n",
      "C:\\Users\\jawad\\AppData\\Local\\Temp/ipykernel_12668/3692174223.py:2: RuntimeWarning: overflow encountered in exp\n",
      "  return 1/(1 + np.exp(-z))\n",
      "C:\\Users\\jawad\\AppData\\Local\\Temp/ipykernel_12668/3692174223.py:2: RuntimeWarning: overflow encountered in exp\n",
      "  return 1/(1 + np.exp(-z))\n",
      "C:\\Users\\jawad\\AppData\\Local\\Temp/ipykernel_12668/3692174223.py:2: RuntimeWarning: overflow encountered in exp\n",
      "  return 1/(1 + np.exp(-z))\n"
     ]
    },
    {
     "name": "stdout",
     "output_type": "stream",
     "text": [
      "124.05778821726265\n",
      "124.05778821726265\n",
      "124.05778821726265\n",
      "124.05778821726265\n",
      "124.05778821726265\n"
     ]
    },
    {
     "name": "stderr",
     "output_type": "stream",
     "text": [
      "C:\\Users\\jawad\\AppData\\Local\\Temp/ipykernel_12668/3692174223.py:2: RuntimeWarning: overflow encountered in exp\n",
      "  return 1/(1 + np.exp(-z))\n",
      "C:\\Users\\jawad\\AppData\\Local\\Temp/ipykernel_12668/3692174223.py:2: RuntimeWarning: overflow encountered in exp\n",
      "  return 1/(1 + np.exp(-z))\n",
      "C:\\Users\\jawad\\AppData\\Local\\Temp/ipykernel_12668/3692174223.py:2: RuntimeWarning: overflow encountered in exp\n",
      "  return 1/(1 + np.exp(-z))\n",
      "C:\\Users\\jawad\\AppData\\Local\\Temp/ipykernel_12668/3692174223.py:2: RuntimeWarning: overflow encountered in exp\n",
      "  return 1/(1 + np.exp(-z))\n",
      "C:\\Users\\jawad\\AppData\\Local\\Temp/ipykernel_12668/3692174223.py:2: RuntimeWarning: overflow encountered in exp\n",
      "  return 1/(1 + np.exp(-z))\n",
      "C:\\Users\\jawad\\AppData\\Local\\Temp/ipykernel_12668/3692174223.py:2: RuntimeWarning: overflow encountered in exp\n",
      "  return 1/(1 + np.exp(-z))\n",
      "C:\\Users\\jawad\\AppData\\Local\\Temp/ipykernel_12668/3692174223.py:2: RuntimeWarning: overflow encountered in exp\n",
      "  return 1/(1 + np.exp(-z))\n",
      "C:\\Users\\jawad\\AppData\\Local\\Temp/ipykernel_12668/3692174223.py:2: RuntimeWarning: overflow encountered in exp\n",
      "  return 1/(1 + np.exp(-z))\n"
     ]
    },
    {
     "name": "stdout",
     "output_type": "stream",
     "text": [
      "124.05778821726265\n",
      "124.05778821726265\n",
      "124.05778821726265\n",
      "124.05778821726265\n"
     ]
    },
    {
     "name": "stderr",
     "output_type": "stream",
     "text": [
      "C:\\Users\\jawad\\AppData\\Local\\Temp/ipykernel_12668/3692174223.py:2: RuntimeWarning: overflow encountered in exp\n",
      "  return 1/(1 + np.exp(-z))\n",
      "C:\\Users\\jawad\\AppData\\Local\\Temp/ipykernel_12668/3692174223.py:2: RuntimeWarning: overflow encountered in exp\n",
      "  return 1/(1 + np.exp(-z))\n",
      "C:\\Users\\jawad\\AppData\\Local\\Temp/ipykernel_12668/3692174223.py:2: RuntimeWarning: overflow encountered in exp\n",
      "  return 1/(1 + np.exp(-z))\n",
      "C:\\Users\\jawad\\AppData\\Local\\Temp/ipykernel_12668/3692174223.py:2: RuntimeWarning: overflow encountered in exp\n",
      "  return 1/(1 + np.exp(-z))\n"
     ]
    },
    {
     "name": "stdout",
     "output_type": "stream",
     "text": [
      "124.05778821726265\n",
      "124.05778821726265\n",
      "124.05778821726265\n",
      "124.05778821726265\n"
     ]
    },
    {
     "name": "stderr",
     "output_type": "stream",
     "text": [
      "C:\\Users\\jawad\\AppData\\Local\\Temp/ipykernel_12668/3692174223.py:2: RuntimeWarning: overflow encountered in exp\n",
      "  return 1/(1 + np.exp(-z))\n",
      "C:\\Users\\jawad\\AppData\\Local\\Temp/ipykernel_12668/3692174223.py:2: RuntimeWarning: overflow encountered in exp\n",
      "  return 1/(1 + np.exp(-z))\n",
      "C:\\Users\\jawad\\AppData\\Local\\Temp/ipykernel_12668/3692174223.py:2: RuntimeWarning: overflow encountered in exp\n",
      "  return 1/(1 + np.exp(-z))\n",
      "C:\\Users\\jawad\\AppData\\Local\\Temp/ipykernel_12668/3692174223.py:2: RuntimeWarning: overflow encountered in exp\n",
      "  return 1/(1 + np.exp(-z))\n"
     ]
    },
    {
     "name": "stdout",
     "output_type": "stream",
     "text": [
      "124.05778821726265\n",
      "124.05778821726265\n",
      "124.05778821726265\n",
      "124.05778821726265\n",
      "124.05778821726265\n",
      "124.05778821726265\n",
      "124.05778821726265\n",
      "124.05778821726265\n"
     ]
    },
    {
     "name": "stderr",
     "output_type": "stream",
     "text": [
      "C:\\Users\\jawad\\AppData\\Local\\Temp/ipykernel_12668/3692174223.py:2: RuntimeWarning: overflow encountered in exp\n",
      "  return 1/(1 + np.exp(-z))\n",
      "C:\\Users\\jawad\\AppData\\Local\\Temp/ipykernel_12668/3692174223.py:2: RuntimeWarning: overflow encountered in exp\n",
      "  return 1/(1 + np.exp(-z))\n",
      "C:\\Users\\jawad\\AppData\\Local\\Temp/ipykernel_12668/3692174223.py:2: RuntimeWarning: overflow encountered in exp\n",
      "  return 1/(1 + np.exp(-z))\n",
      "C:\\Users\\jawad\\AppData\\Local\\Temp/ipykernel_12668/3692174223.py:2: RuntimeWarning: overflow encountered in exp\n",
      "  return 1/(1 + np.exp(-z))\n"
     ]
    },
    {
     "name": "stdout",
     "output_type": "stream",
     "text": [
      "124.05778821726265\n",
      "124.05778821726265\n",
      "124.05778821726265\n"
     ]
    },
    {
     "name": "stderr",
     "output_type": "stream",
     "text": [
      "C:\\Users\\jawad\\AppData\\Local\\Temp/ipykernel_12668/3692174223.py:2: RuntimeWarning: overflow encountered in exp\n",
      "  return 1/(1 + np.exp(-z))\n",
      "C:\\Users\\jawad\\AppData\\Local\\Temp/ipykernel_12668/3692174223.py:2: RuntimeWarning: overflow encountered in exp\n",
      "  return 1/(1 + np.exp(-z))\n",
      "C:\\Users\\jawad\\AppData\\Local\\Temp/ipykernel_12668/3692174223.py:2: RuntimeWarning: overflow encountered in exp\n",
      "  return 1/(1 + np.exp(-z))\n",
      "C:\\Users\\jawad\\AppData\\Local\\Temp/ipykernel_12668/3692174223.py:2: RuntimeWarning: overflow encountered in exp\n",
      "  return 1/(1 + np.exp(-z))\n"
     ]
    },
    {
     "name": "stdout",
     "output_type": "stream",
     "text": [
      "124.05778821726265\n",
      "124.05778821726265\n",
      "124.05778821726265\n",
      "124.05778821726265\n",
      "124.05778821726265\n"
     ]
    },
    {
     "name": "stderr",
     "output_type": "stream",
     "text": [
      "C:\\Users\\jawad\\AppData\\Local\\Temp/ipykernel_12668/3692174223.py:2: RuntimeWarning: overflow encountered in exp\n",
      "  return 1/(1 + np.exp(-z))\n",
      "C:\\Users\\jawad\\AppData\\Local\\Temp/ipykernel_12668/3692174223.py:2: RuntimeWarning: overflow encountered in exp\n",
      "  return 1/(1 + np.exp(-z))\n",
      "C:\\Users\\jawad\\AppData\\Local\\Temp/ipykernel_12668/3692174223.py:2: RuntimeWarning: overflow encountered in exp\n",
      "  return 1/(1 + np.exp(-z))\n",
      "C:\\Users\\jawad\\AppData\\Local\\Temp/ipykernel_12668/3692174223.py:2: RuntimeWarning: overflow encountered in exp\n",
      "  return 1/(1 + np.exp(-z))\n",
      "C:\\Users\\jawad\\AppData\\Local\\Temp/ipykernel_12668/3692174223.py:2: RuntimeWarning: overflow encountered in exp\n",
      "  return 1/(1 + np.exp(-z))\n",
      "C:\\Users\\jawad\\AppData\\Local\\Temp/ipykernel_12668/3692174223.py:2: RuntimeWarning: overflow encountered in exp\n",
      "  return 1/(1 + np.exp(-z))\n",
      "C:\\Users\\jawad\\AppData\\Local\\Temp/ipykernel_12668/3692174223.py:2: RuntimeWarning: overflow encountered in exp\n",
      "  return 1/(1 + np.exp(-z))\n",
      "C:\\Users\\jawad\\AppData\\Local\\Temp/ipykernel_12668/3692174223.py:2: RuntimeWarning: overflow encountered in exp\n",
      "  return 1/(1 + np.exp(-z))\n"
     ]
    },
    {
     "name": "stdout",
     "output_type": "stream",
     "text": [
      "124.05778821726265\n",
      "124.05778821726265\n",
      "124.05778821726265\n",
      "124.05778821726265\n",
      "124.05778821726265\n"
     ]
    },
    {
     "name": "stderr",
     "output_type": "stream",
     "text": [
      "C:\\Users\\jawad\\AppData\\Local\\Temp/ipykernel_12668/3692174223.py:2: RuntimeWarning: overflow encountered in exp\n",
      "  return 1/(1 + np.exp(-z))\n",
      "C:\\Users\\jawad\\AppData\\Local\\Temp/ipykernel_12668/3692174223.py:2: RuntimeWarning: overflow encountered in exp\n",
      "  return 1/(1 + np.exp(-z))\n",
      "C:\\Users\\jawad\\AppData\\Local\\Temp/ipykernel_12668/3692174223.py:2: RuntimeWarning: overflow encountered in exp\n",
      "  return 1/(1 + np.exp(-z))\n",
      "C:\\Users\\jawad\\AppData\\Local\\Temp/ipykernel_12668/3692174223.py:2: RuntimeWarning: overflow encountered in exp\n",
      "  return 1/(1 + np.exp(-z))\n"
     ]
    },
    {
     "name": "stdout",
     "output_type": "stream",
     "text": [
      "124.05778821726265\n",
      "124.05778821726265\n",
      "124.05778821726265\n",
      "124.05778821726265\n",
      "124.05778821726265\n"
     ]
    },
    {
     "name": "stderr",
     "output_type": "stream",
     "text": [
      "C:\\Users\\jawad\\AppData\\Local\\Temp/ipykernel_12668/3692174223.py:2: RuntimeWarning: overflow encountered in exp\n",
      "  return 1/(1 + np.exp(-z))\n",
      "C:\\Users\\jawad\\AppData\\Local\\Temp/ipykernel_12668/3692174223.py:2: RuntimeWarning: overflow encountered in exp\n",
      "  return 1/(1 + np.exp(-z))\n",
      "C:\\Users\\jawad\\AppData\\Local\\Temp/ipykernel_12668/3692174223.py:2: RuntimeWarning: overflow encountered in exp\n",
      "  return 1/(1 + np.exp(-z))\n",
      "C:\\Users\\jawad\\AppData\\Local\\Temp/ipykernel_12668/3692174223.py:2: RuntimeWarning: overflow encountered in exp\n",
      "  return 1/(1 + np.exp(-z))\n"
     ]
    },
    {
     "name": "stdout",
     "output_type": "stream",
     "text": [
      "124.05778821726265\n",
      "124.05778821726265\n",
      "124.05778821726265\n",
      "124.05778821726265\n"
     ]
    },
    {
     "name": "stderr",
     "output_type": "stream",
     "text": [
      "C:\\Users\\jawad\\AppData\\Local\\Temp/ipykernel_12668/3692174223.py:2: RuntimeWarning: overflow encountered in exp\n",
      "  return 1/(1 + np.exp(-z))\n",
      "C:\\Users\\jawad\\AppData\\Local\\Temp/ipykernel_12668/3692174223.py:2: RuntimeWarning: overflow encountered in exp\n",
      "  return 1/(1 + np.exp(-z))\n",
      "C:\\Users\\jawad\\AppData\\Local\\Temp/ipykernel_12668/3692174223.py:2: RuntimeWarning: overflow encountered in exp\n",
      "  return 1/(1 + np.exp(-z))\n",
      "C:\\Users\\jawad\\AppData\\Local\\Temp/ipykernel_12668/3692174223.py:2: RuntimeWarning: overflow encountered in exp\n",
      "  return 1/(1 + np.exp(-z))\n"
     ]
    },
    {
     "name": "stdout",
     "output_type": "stream",
     "text": [
      "124.05778821726265\n",
      "124.05778821726265\n",
      "124.05778821726265\n",
      "124.05778821726265\n"
     ]
    },
    {
     "name": "stderr",
     "output_type": "stream",
     "text": [
      "C:\\Users\\jawad\\AppData\\Local\\Temp/ipykernel_12668/3692174223.py:2: RuntimeWarning: overflow encountered in exp\n",
      "  return 1/(1 + np.exp(-z))\n",
      "C:\\Users\\jawad\\AppData\\Local\\Temp/ipykernel_12668/3692174223.py:2: RuntimeWarning: overflow encountered in exp\n",
      "  return 1/(1 + np.exp(-z))\n",
      "C:\\Users\\jawad\\AppData\\Local\\Temp/ipykernel_12668/3692174223.py:2: RuntimeWarning: overflow encountered in exp\n",
      "  return 1/(1 + np.exp(-z))\n",
      "C:\\Users\\jawad\\AppData\\Local\\Temp/ipykernel_12668/3692174223.py:2: RuntimeWarning: overflow encountered in exp\n",
      "  return 1/(1 + np.exp(-z))\n"
     ]
    },
    {
     "name": "stdout",
     "output_type": "stream",
     "text": [
      "124.05778821726265\n",
      "124.05778821726265\n",
      "124.05778821726265\n",
      "124.05778821726265\n"
     ]
    },
    {
     "name": "stderr",
     "output_type": "stream",
     "text": [
      "C:\\Users\\jawad\\AppData\\Local\\Temp/ipykernel_12668/3692174223.py:2: RuntimeWarning: overflow encountered in exp\n",
      "  return 1/(1 + np.exp(-z))\n",
      "C:\\Users\\jawad\\AppData\\Local\\Temp/ipykernel_12668/3692174223.py:2: RuntimeWarning: overflow encountered in exp\n",
      "  return 1/(1 + np.exp(-z))\n",
      "C:\\Users\\jawad\\AppData\\Local\\Temp/ipykernel_12668/3692174223.py:2: RuntimeWarning: overflow encountered in exp\n",
      "  return 1/(1 + np.exp(-z))\n",
      "C:\\Users\\jawad\\AppData\\Local\\Temp/ipykernel_12668/3692174223.py:2: RuntimeWarning: overflow encountered in exp\n",
      "  return 1/(1 + np.exp(-z))\n"
     ]
    },
    {
     "name": "stdout",
     "output_type": "stream",
     "text": [
      "124.05778821726265\n",
      "124.05778821726265\n",
      "124.05778821726265\n",
      "124.05778821726265\n"
     ]
    },
    {
     "name": "stderr",
     "output_type": "stream",
     "text": [
      "C:\\Users\\jawad\\AppData\\Local\\Temp/ipykernel_12668/3692174223.py:2: RuntimeWarning: overflow encountered in exp\n",
      "  return 1/(1 + np.exp(-z))\n",
      "C:\\Users\\jawad\\AppData\\Local\\Temp/ipykernel_12668/3692174223.py:2: RuntimeWarning: overflow encountered in exp\n",
      "  return 1/(1 + np.exp(-z))\n",
      "C:\\Users\\jawad\\AppData\\Local\\Temp/ipykernel_12668/3692174223.py:2: RuntimeWarning: overflow encountered in exp\n",
      "  return 1/(1 + np.exp(-z))\n"
     ]
    },
    {
     "name": "stdout",
     "output_type": "stream",
     "text": [
      "124.05778821726265\n",
      "124.05778821726265\n",
      "124.05778821726265\n",
      "124.05778821726265\n",
      "124.05778821726265\n"
     ]
    },
    {
     "name": "stderr",
     "output_type": "stream",
     "text": [
      "C:\\Users\\jawad\\AppData\\Local\\Temp/ipykernel_12668/3692174223.py:2: RuntimeWarning: overflow encountered in exp\n",
      "  return 1/(1 + np.exp(-z))\n",
      "C:\\Users\\jawad\\AppData\\Local\\Temp/ipykernel_12668/3692174223.py:2: RuntimeWarning: overflow encountered in exp\n",
      "  return 1/(1 + np.exp(-z))\n",
      "C:\\Users\\jawad\\AppData\\Local\\Temp/ipykernel_12668/3692174223.py:2: RuntimeWarning: overflow encountered in exp\n",
      "  return 1/(1 + np.exp(-z))\n",
      "C:\\Users\\jawad\\AppData\\Local\\Temp/ipykernel_12668/3692174223.py:2: RuntimeWarning: overflow encountered in exp\n",
      "  return 1/(1 + np.exp(-z))\n"
     ]
    },
    {
     "name": "stdout",
     "output_type": "stream",
     "text": [
      "124.05778821726265\n",
      "124.05778821726265\n",
      "124.05778821726265\n"
     ]
    },
    {
     "name": "stderr",
     "output_type": "stream",
     "text": [
      "C:\\Users\\jawad\\AppData\\Local\\Temp/ipykernel_12668/3692174223.py:2: RuntimeWarning: overflow encountered in exp\n",
      "  return 1/(1 + np.exp(-z))\n",
      "C:\\Users\\jawad\\AppData\\Local\\Temp/ipykernel_12668/3692174223.py:2: RuntimeWarning: overflow encountered in exp\n",
      "  return 1/(1 + np.exp(-z))\n",
      "C:\\Users\\jawad\\AppData\\Local\\Temp/ipykernel_12668/3692174223.py:2: RuntimeWarning: overflow encountered in exp\n",
      "  return 1/(1 + np.exp(-z))\n"
     ]
    }
   ],
   "source": [
    "from sklearn.metrics import mean_squared_error\n",
    "from scipy.misc import derivative\n",
    "alpha = 0.8\n",
    "for loooop in range(150):\n",
    "    Z = np.dot(W.T,X_train,) + b\n",
    "    A = sigmoid(Z)\n",
    "    A = np.where(A < 0.5, 0, 1)\n",
    "    A = A.squeeze()\n",
    "    J=mean_squared_error(y_train,A)\n",
    "    dw=GD(y_train[0],A[0])\n",
    "    dz = A - y_train  #TD-OD\n",
    "    dz=np.expand_dims(dz,axis=0)\n",
    "    db = np.sum(dz,axis =1)/79756\n",
    "    W = W - alpha * dw\n",
    "    b = b - alpha * db\n",
    "    print(J)"
   ]
  },
  {
   "cell_type": "code",
   "execution_count": 26,
   "id": "2f934de3",
   "metadata": {},
   "outputs": [],
   "source": [
    "def GD2(A,B):\n",
    "    J=0\n",
    "    for i in range(len(y_test)):\n",
    "        J=J+(1/len(y_test))*(A-B)\n",
    "    return J"
   ]
  },
  {
   "cell_type": "code",
   "execution_count": 29,
   "id": "e9a2c617",
   "metadata": {},
   "outputs": [
    {
     "name": "stderr",
     "output_type": "stream",
     "text": [
      "C:\\Users\\jawad\\AppData\\Local\\Temp/ipykernel_12668/3692174223.py:2: RuntimeWarning: overflow encountered in exp\n",
      "  return 1/(1 + np.exp(-z))\n"
     ]
    },
    {
     "ename": "UFuncTypeError",
     "evalue": "ufunc 'subtract' did not contain a loop with signature matching types (dtype('<U11'), dtype('<U11')) -> dtype('<U11')",
     "output_type": "error",
     "traceback": [
      "\u001b[1;31m---------------------------------------------------------------------------\u001b[0m",
      "\u001b[1;31mUFuncTypeError\u001b[0m                            Traceback (most recent call last)",
      "\u001b[1;32m~\\AppData\\Local\\Temp/ipykernel_12668/29814749.py\u001b[0m in \u001b[0;36m<module>\u001b[1;34m\u001b[0m\n\u001b[0;32m      8\u001b[0m     \u001b[0mA\u001b[0m \u001b[1;33m=\u001b[0m \u001b[0mA\u001b[0m\u001b[1;33m.\u001b[0m\u001b[0msqueeze\u001b[0m\u001b[1;33m(\u001b[0m\u001b[1;33m)\u001b[0m\u001b[1;33m\u001b[0m\u001b[1;33m\u001b[0m\u001b[0m\n\u001b[0;32m      9\u001b[0m     \u001b[0mJ\u001b[0m\u001b[1;33m=\u001b[0m\u001b[0mmean_squared_error\u001b[0m\u001b[1;33m(\u001b[0m\u001b[0my_test\u001b[0m\u001b[1;33m,\u001b[0m\u001b[0mA\u001b[0m\u001b[1;33m)\u001b[0m\u001b[1;33m\u001b[0m\u001b[1;33m\u001b[0m\u001b[0m\n\u001b[1;32m---> 10\u001b[1;33m     \u001b[0mdw\u001b[0m\u001b[1;33m=\u001b[0m\u001b[0mGD2\u001b[0m\u001b[1;33m(\u001b[0m\u001b[0my_test\u001b[0m\u001b[1;33m[\u001b[0m\u001b[1;36m0\u001b[0m\u001b[1;33m]\u001b[0m\u001b[1;33m,\u001b[0m\u001b[0mA\u001b[0m\u001b[1;33m[\u001b[0m\u001b[1;36m0\u001b[0m\u001b[1;33m]\u001b[0m\u001b[1;33m)\u001b[0m\u001b[1;33m\u001b[0m\u001b[1;33m\u001b[0m\u001b[0m\n\u001b[0m\u001b[0;32m     11\u001b[0m     \u001b[0mdz\u001b[0m \u001b[1;33m=\u001b[0m \u001b[0mA\u001b[0m \u001b[1;33m-\u001b[0m \u001b[0my_test\u001b[0m  \u001b[1;31m#TD-OD\u001b[0m\u001b[1;33m\u001b[0m\u001b[1;33m\u001b[0m\u001b[0m\n\u001b[0;32m     12\u001b[0m     \u001b[0mdz\u001b[0m\u001b[1;33m=\u001b[0m\u001b[0mnp\u001b[0m\u001b[1;33m.\u001b[0m\u001b[0mexpand_dims\u001b[0m\u001b[1;33m(\u001b[0m\u001b[0mdz\u001b[0m\u001b[1;33m,\u001b[0m\u001b[0maxis\u001b[0m\u001b[1;33m=\u001b[0m\u001b[1;36m0\u001b[0m\u001b[1;33m)\u001b[0m\u001b[1;33m\u001b[0m\u001b[1;33m\u001b[0m\u001b[0m\n",
      "\u001b[1;32m~\\AppData\\Local\\Temp/ipykernel_12668/2032562777.py\u001b[0m in \u001b[0;36mGD2\u001b[1;34m(A, B)\u001b[0m\n\u001b[0;32m      2\u001b[0m     \u001b[0mJ\u001b[0m\u001b[1;33m=\u001b[0m\u001b[1;36m0\u001b[0m\u001b[1;33m\u001b[0m\u001b[1;33m\u001b[0m\u001b[0m\n\u001b[0;32m      3\u001b[0m     \u001b[1;32mfor\u001b[0m \u001b[0mi\u001b[0m \u001b[1;32min\u001b[0m \u001b[0mrange\u001b[0m\u001b[1;33m(\u001b[0m\u001b[0mlen\u001b[0m\u001b[1;33m(\u001b[0m\u001b[0my_test\u001b[0m\u001b[1;33m)\u001b[0m\u001b[1;33m)\u001b[0m\u001b[1;33m:\u001b[0m\u001b[1;33m\u001b[0m\u001b[1;33m\u001b[0m\u001b[0m\n\u001b[1;32m----> 4\u001b[1;33m         \u001b[0mJ\u001b[0m\u001b[1;33m=\u001b[0m\u001b[0mJ\u001b[0m\u001b[1;33m+\u001b[0m\u001b[1;33m(\u001b[0m\u001b[1;36m1\u001b[0m\u001b[1;33m/\u001b[0m\u001b[0mlen\u001b[0m\u001b[1;33m(\u001b[0m\u001b[0my_test\u001b[0m\u001b[1;33m)\u001b[0m\u001b[1;33m)\u001b[0m\u001b[1;33m*\u001b[0m\u001b[1;33m(\u001b[0m\u001b[0mA\u001b[0m\u001b[1;33m-\u001b[0m\u001b[0mB\u001b[0m\u001b[1;33m)\u001b[0m\u001b[1;33m\u001b[0m\u001b[1;33m\u001b[0m\u001b[0m\n\u001b[0m\u001b[0;32m      5\u001b[0m     \u001b[1;32mreturn\u001b[0m \u001b[0mJ\u001b[0m\u001b[1;33m\u001b[0m\u001b[1;33m\u001b[0m\u001b[0m\n",
      "\u001b[1;31mUFuncTypeError\u001b[0m: ufunc 'subtract' did not contain a loop with signature matching types (dtype('<U11'), dtype('<U11')) -> dtype('<U11')"
     ]
    }
   ],
   "source": [
    "from sklearn.metrics import log_loss\n",
    "alpha = 0.36\n",
    "\n",
    "for lop in range(16):\n",
    "    Z = np.dot(W.T,X_test,) + b\n",
    "    A = sigmoid(Z)\n",
    "    A = np.where(A < 0.5, 0, 1)\n",
    "    A = A.squeeze()\n",
    "    J=mean_squared_error(y_test,A)\n",
    "    dw=GD2(y_test[0],A[0])\n",
    "    dz = A - y_test  #TD-OD\n",
    "    dz=np.expand_dims(dz,axis=0)\n",
    "    db = np.sum(dz,axis =1)/39824\n",
    "    W = W - alpha * dw\n",
    "    b = b - alpha * db\n",
    "    print(J)"
   ]
  },
  {
   "cell_type": "code",
   "execution_count": 30,
   "id": "91b6d07e",
   "metadata": {},
   "outputs": [],
   "source": [
    "def compute_accuracy(y_true, y_pred):\n",
    "    correct_predictions = 0\n",
    "    for true, predicted in zip(y_true, y_pred):\n",
    "        if true == predicted:\n",
    "            correct_predictions =correct_predictions+1 \n",
    "    accuracy = correct_predictions/len(y_true)\n",
    "    return accuracy"
   ]
  },
  {
   "cell_type": "code",
   "execution_count": 31,
   "id": "160fcb06",
   "metadata": {},
   "outputs": [
    {
     "name": "stdout",
     "output_type": "stream",
     "text": [
      "Test Accuracy:  0.005447510436819061\n"
     ]
    }
   ],
   "source": [
    "print(\"Test Accuracy: \",compute_accuracy(y_test,A))"
   ]
  },
  {
   "cell_type": "code",
   "execution_count": null,
   "id": "382dc983",
   "metadata": {},
   "outputs": [],
   "source": []
  }
 ],
 "metadata": {
  "kernelspec": {
   "display_name": "Python 3 (ipykernel)",
   "language": "python",
   "name": "python3"
  },
  "language_info": {
   "codemirror_mode": {
    "name": "ipython",
    "version": 3
   },
   "file_extension": ".py",
   "mimetype": "text/x-python",
   "name": "python",
   "nbconvert_exporter": "python",
   "pygments_lexer": "ipython3",
   "version": "3.9.7"
  }
 },
 "nbformat": 4,
 "nbformat_minor": 5
}
