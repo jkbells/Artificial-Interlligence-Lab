{
 "cells": [
  {
   "cell_type": "code",
   "execution_count": 2,
   "id": "9b012068-8fde-4210-9d5f-92256f2668b7",
   "metadata": {},
   "outputs": [],
   "source": [
    "import pandas as pd\n",
    "import numpy as np\n",
    "from collections import Counter\n",
    "import matplotlib.pyplot as plt\n",
    "from sklearn.metrics import accuracy_score,confusion_matrix"
   ]
  },
  {
   "cell_type": "code",
   "execution_count": 3,
   "id": "96404bfa",
   "metadata": {},
   "outputs": [],
   "source": []
  },
  {
   "cell_type": "code",
   "execution_count": 4,
   "id": "fe873f87-0fc4-4800-a5e1-58330c9a4eb2",
   "metadata": {},
   "outputs": [],
   "source": [
    "df = pd.read_csv(\"winee.data\",delimiter = \"\\t\")"
   ]
  },
  {
   "cell_type": "code",
   "execution_count": 5,
   "id": "347c43e9-e878-4229-98a6-d8cd457f3e55",
   "metadata": {},
   "outputs": [
    {
     "data": {
      "text/html": [
       "<div>\n",
       "<style scoped>\n",
       "    .dataframe tbody tr th:only-of-type {\n",
       "        vertical-align: middle;\n",
       "    }\n",
       "\n",
       "    .dataframe tbody tr th {\n",
       "        vertical-align: top;\n",
       "    }\n",
       "\n",
       "    .dataframe thead th {\n",
       "        text-align: right;\n",
       "    }\n",
       "</style>\n",
       "<table border=\"1\" class=\"dataframe\">\n",
       "  <thead>\n",
       "    <tr style=\"text-align: right;\">\n",
       "      <th></th>\n",
       "      <th>1,14.23,1.71,2.43,15.6,127,2.8,3.06,.28,2.29,5.64,1.04,3.92,1065</th>\n",
       "    </tr>\n",
       "  </thead>\n",
       "  <tbody>\n",
       "    <tr>\n",
       "      <th>0</th>\n",
       "      <td>1,13.2,1.78,2.14,11.2,100,2.65,2.76,.26,1.28,4...</td>\n",
       "    </tr>\n",
       "    <tr>\n",
       "      <th>1</th>\n",
       "      <td>1,13.16,2.36,2.67,18.6,101,2.8,3.24,.3,2.81,5....</td>\n",
       "    </tr>\n",
       "    <tr>\n",
       "      <th>2</th>\n",
       "      <td>1,14.37,1.95,2.5,16.8,113,3.85,3.49,.24,2.18,7...</td>\n",
       "    </tr>\n",
       "    <tr>\n",
       "      <th>3</th>\n",
       "      <td>1,13.24,2.59,2.87,21,118,2.8,2.69,.39,1.82,4.3...</td>\n",
       "    </tr>\n",
       "    <tr>\n",
       "      <th>4</th>\n",
       "      <td>1,14.2,1.76,2.45,15.2,112,3.27,3.39,.34,1.97,6...</td>\n",
       "    </tr>\n",
       "  </tbody>\n",
       "</table>\n",
       "</div>"
      ],
      "text/plain": [
       "  1,14.23,1.71,2.43,15.6,127,2.8,3.06,.28,2.29,5.64,1.04,3.92,1065\n",
       "0  1,13.2,1.78,2.14,11.2,100,2.65,2.76,.26,1.28,4...              \n",
       "1  1,13.16,2.36,2.67,18.6,101,2.8,3.24,.3,2.81,5....              \n",
       "2  1,14.37,1.95,2.5,16.8,113,3.85,3.49,.24,2.18,7...              \n",
       "3  1,13.24,2.59,2.87,21,118,2.8,2.69,.39,1.82,4.3...              \n",
       "4  1,14.2,1.76,2.45,15.2,112,3.27,3.39,.34,1.97,6...              "
      ]
     },
     "execution_count": 5,
     "metadata": {},
     "output_type": "execute_result"
    }
   ],
   "source": [
    "df.head()"
   ]
  },
  {
   "cell_type": "code",
   "execution_count": 373,
   "id": "76e9c43e-32c5-4e5b-9259-270c3e2f5ac3",
   "metadata": {},
   "outputs": [
    {
     "data": {
      "image/png": "[encoded data removed]",
      "text/plain": [
       "<Figure size 432x288 with 1 Axes>"
      ]
     },
     "metadata": {
      "needs_background": "light"
     },
     "output_type": "display_data"
    }
   ],
   "source": [
    "X = df[[\"mass\",\"width\",\"height\"]]\n",
    "data = df\n",
    "p = data[[\"height\",\"width\"]]\n",
    " #Visualise data points\n",
    "plt.scatter(p[\"width\"],p[\"height\"],c='black')\n",
    "plt.xlabel('On X-axis')\n",
    "plt.ylabel('on Y-axis)')\n",
    "plt.show()"
   ]
  },
  {
   "cell_type": "code",
   "execution_count": 374,
   "id": "20bf675d-d4f3-477b-af1e-91d1600643bd",
   "metadata": {},
   "outputs": [],
   "source": [
    "Y = df[\"winee\"]"
   ]
  },
  {
   "cell_type": "code",
   "execution_count": 375,
   "id": "dd3106b4-c3e9-4195-81e4-9d4ca0ab28e3",
   "metadata": {},
   "outputs": [],
   "source": [
    "trainX = np.array(X[:50])\n",
    "trainY = np.array(Y[:50])\n",
    "testX = np.array(X[50:])\n",
    "testY = np.array(Y[50:])\n"
   ]
  },
  {
   "cell_type": "code",
   "execution_count": null,
   "id": "6de65d5a",
   "metadata": {},
   "outputs": [],
   "source": []
  },
  {
   "cell_type": "code",
   "execution_count": 376,
   "id": "ea8a15dd-f1e1-4f6a-ab78-d431d3f57cc0",
   "metadata": {},
   "outputs": [],
   "source": [
    "class KNN:\n",
    "    def __init__(self,k = 1):\n",
    "        self.k = k\n",
    "        \n",
    "    def euclidian_distance(self,query,X):\n",
    "        difference = np.array(X) - np.array(query)\n",
    "        sqrd_diff = np.square(difference)\n",
    "        sum_sqrd_diff = np.sum(sqrd_diff, axis = 1)\n",
    "        distance = np.sqrt(sum_sqrd_diff)\n",
    "        return distance\n",
    "    \n",
    "    def nearest_neighbours(self,distance):\n",
    "        return np.argsort(distance)[:self.k]\n",
    "    \n",
    "    def predict(self,query,trainX,trainY):\n",
    "        ed = self.euclidian_distance(query,trainX)\n",
    "        nn = self.nearest_neighbours(ed)\n",
    "        labels_nn = list(trainY[nn])\n",
    "        return max(labels_nn, key = labels_nn.count) \n",
    "    "
   ]
  },
  {
   "cell_type": "code",
   "execution_count": 377,
   "id": "b2853a21-a492-4cd6-bccd-0adcadd0923f",
   "metadata": {},
   "outputs": [],
   "source": [
    "classifier = KNN(4)"
   ]
  },
  {
   "cell_type": "code",
   "execution_count": 378,
   "id": "fc43155a-d249-4cc5-a1bd-007812aa0c8f",
   "metadata": {},
   "outputs": [],
   "source": [
    "predictions = [classifier.predict(x,trainX,trainY) for x in testX]"
   ]
  },
  {
   "cell_type": "code",
   "execution_count": 379,
   "id": "f2230339-0225-4178-98de-2be313d9e31d",
   "metadata": {},
   "outputs": [
    {
     "data": {
      "text/plain": [
       "[3, 3, 3, 3, 3, 3, 3, 3, 3]"
      ]
     },
     "execution_count": 379,
     "metadata": {},
     "output_type": "execute_result"
    }
   ],
   "source": [
    "predictions"
   ]
  },
  {
   "cell_type": "code",
   "execution_count": 380,
   "id": "610f7e0a-6920-4db6-991e-91909b143824",
   "metadata": {},
   "outputs": [
    {
     "data": {
      "text/plain": [
       "array([4, 4, 4, 4, 4, 4, 4, 4, 4])"
      ]
     },
     "execution_count": 380,
     "metadata": {},
     "output_type": "execute_result"
    }
   ],
   "source": [
    "testY"
   ]
  },
  {
   "cell_type": "code",
   "execution_count": null,
   "id": "a996cf1e-62fb-477a-ba33-90c3b169f24c",
   "metadata": {},
   "outputs": [],
   "source": []
  },
  {
   "cell_type": "code",
   "execution_count": 381,
   "id": "cf2f04b0-d970-4ee9-8c5a-bcf656079dbd",
   "metadata": {},
   "outputs": [],
   "source": [
    "df = pd.read_csv(\"winee.data\",delimiter = \"\\t\")"
   ]
  },
  {
   "cell_type": "code",
   "execution_count": null,
   "id": "b651cca0-e485-4305-98c3-392f902a5269",
   "metadata": {},
   "outputs": [],
   "source": []
  },
  {
   "cell_type": "code",
   "execution_count": 382,
   "id": "ac3d953d-ff74-42c3-91f5-84169201a77e",
   "metadata": {},
   "outputs": [],
   "source": [
    "X = np.array(df[[\"mass\",\"width\",\"height\",\"color_score\"]])"
   ]
  },
  {
   "cell_type": "code",
   "execution_count": 383,
   "id": "4969114f-4683-4af3-a837-9e0426b68e13",
   "metadata": {},
   "outputs": [
    {
     "data": {
      "text/plain": [
       "(59, 4)"
      ]
     },
     "execution_count": 383,
     "metadata": {},
     "output_type": "execute_result"
    }
   ],
   "source": [
    "X.shape"
   ]
  },
  {
   "cell_type": "code",
   "execution_count": null,
   "id": "9997ab5d",
   "metadata": {},
   "outputs": [],
   "source": []
  },
  {
   "cell_type": "markdown",
   "id": "e3d24388-554d-4773-b251-f66c61a98769",
   "metadata": {},
   "source": [
    "# STEP 1"
   ]
  },
  {
   "cell_type": "code",
   "execution_count": 384,
   "id": "3fe1f9a0-3d8f-49b6-bdbc-8f41654c8e23",
   "metadata": {},
   "outputs": [],
   "source": [
    "K = 4"
   ]
  },
  {
   "cell_type": "markdown",
   "id": "dcccd20d-0170-4ff9-bd22-55ea885fd01e",
   "metadata": {},
   "source": [
    "# STEP 2"
   ]
  },
  {
   "cell_type": "code",
   "execution_count": 385,
   "id": "bc618f4c-261e-4d2f-8a82-1abf2a337f88",
   "metadata": {},
   "outputs": [],
   "source": [
    "centroidIndex = np.random.randint(0,58,(4,))"
   ]
  },
  {
   "cell_type": "code",
   "execution_count": 386,
   "id": "26c08ca6-f1b2-42ec-8192-6c2188ac9214",
   "metadata": {},
   "outputs": [
    {
     "data": {
      "text/plain": [
       "array([ 1,  4, 31,  4])"
      ]
     },
     "execution_count": 386,
     "metadata": {},
     "output_type": "execute_result"
    }
   ],
   "source": [
    "centroidIndex"
   ]
  },
  {
   "cell_type": "code",
   "execution_count": 387,
   "id": "232a5651-f13c-449d-af7c-8a8f03072740",
   "metadata": {},
   "outputs": [],
   "source": [
    "centroids = X[centroidIndex]"
   ]
  },
  {
   "cell_type": "code",
   "execution_count": 388,
   "id": "83851f22-52b3-4a79-9f10-b8ccf69cd7ce",
   "metadata": {},
   "outputs": [
    {
     "data": {
      "text/plain": [
       "array([[180.  ,   8.  ,   6.8 ,   0.59],\n",
       "       [ 84.  ,   6.  ,   4.6 ,   0.79],\n",
       "       [210.  ,   7.8 ,   8.  ,   0.82],\n",
       "       [ 84.  ,   6.  ,   4.6 ,   0.79]])"
      ]
     },
     "execution_count": 388,
     "metadata": {},
     "output_type": "execute_result"
    }
   ],
   "source": [
    "centroids"
   ]
  },
  {
   "cell_type": "code",
   "execution_count": 389,
   "id": "605e275a-e871-4910-a2ff-9f48c6b236e6",
   "metadata": {},
   "outputs": [],
   "source": [
    "X_ = np.delete(X,centroidIndex, axis = 0)"
   ]
  },
  {
   "cell_type": "code",
   "execution_count": 390,
   "id": "a4cf4132-151c-4807-af1b-e24d8d5a184c",
   "metadata": {},
   "outputs": [],
   "source": [
    "clusters = [[],[],[],[]]\n",
    "clusters[0].append(centroids[0])\n",
    "clusters[1].append(centroids[1])\n",
    "clusters[2].append(centroids[2])\n",
    "clusters[3].append(centroids[3])\n"
   ]
  },
  {
   "cell_type": "code",
   "execution_count": 391,
   "id": "eab638c1",
   "metadata": {},
   "outputs": [
    {
     "data": {
      "image/png": "[encoded data removed]",
      "text/plain": [
       "<Figure size 432x288 with 1 Axes>"
      ]
     },
     "metadata": {
      "needs_background": "light"
     },
     "output_type": "display_data"
    }
   ],
   "source": [
    "Centroids = (p.sample(n=K))\n",
    "plt.scatter(p[\"width\"],p[\"height\"],c='black')\n",
    "plt.scatter(Centroids[\"width\"],Centroids[\"height\"],c='red')\n",
    "plt.xlabel('on X-axis')\n",
    "plt.ylabel('on X-axis')\n",
    "plt.show()"
   ]
  },
  {
   "cell_type": "markdown",
   "id": "527c93d8-9a1b-4abc-a43d-fbbe32d19c2c",
   "metadata": {},
   "source": [
    "# STEP 3"
   ]
  },
  {
   "cell_type": "code",
   "execution_count": 392,
   "id": "af8ed449-8194-450b-a441-f4e5bc46c67b",
   "metadata": {},
   "outputs": [],
   "source": [
    "def euclidian_distance(query,X):\n",
    "        difference = np.array(X) - np.array(query)\n",
    "        sqrd_diff = np.square(difference)\n",
    "        sum_sqrd_diff = np.sum(sqrd_diff, axis = 1)\n",
    "        distance = np.sqrt(sum_sqrd_diff)\n",
    "        return distance"
   ]
  },
  {
   "cell_type": "code",
   "execution_count": 393,
   "id": "8f2ab65e-c1b2-4ce1-b5ec-58d521f8655b",
   "metadata": {},
   "outputs": [],
   "source": [
    "for x in X_:\n",
    "    id = np.argmin(euclidian_distance(x,centroids))\n",
    "    clusters[id].append(x)"
   ]
  },
  {
   "cell_type": "code",
   "execution_count": 394,
   "id": "86dafda5-3795-41cc-a606-d68270705090",
   "metadata": {},
   "outputs": [
    {
     "data": {
      "text/plain": [
       "36"
      ]
     },
     "execution_count": 394,
     "metadata": {},
     "output_type": "execute_result"
    }
   ],
   "source": [
    "len(clusters[0])"
   ]
  },
  {
   "cell_type": "code",
   "execution_count": 395,
   "id": "8b6d43db-2999-4380-bb6d-365e620e5c2e",
   "metadata": {},
   "outputs": [
    {
     "data": {
      "text/plain": [
       "13"
      ]
     },
     "execution_count": 395,
     "metadata": {},
     "output_type": "execute_result"
    }
   ],
   "source": [
    "len(clusters[1])"
   ]
  },
  {
   "cell_type": "code",
   "execution_count": 396,
   "id": "95c0e01d-8695-4e9f-b86e-e07951a88844",
   "metadata": {},
   "outputs": [
    {
     "data": {
      "text/plain": [
       "10"
      ]
     },
     "execution_count": 396,
     "metadata": {},
     "output_type": "execute_result"
    }
   ],
   "source": [
    "len(clusters[2])"
   ]
  },
  {
   "cell_type": "code",
   "execution_count": 397,
   "id": "c116eafd-4d0c-4e0b-8f0e-08651d873bb9",
   "metadata": {},
   "outputs": [
    {
     "data": {
      "text/plain": [
       "1"
      ]
     },
     "execution_count": 397,
     "metadata": {},
     "output_type": "execute_result"
    }
   ],
   "source": [
    "len(clusters[3])"
   ]
  },
  {
   "cell_type": "code",
   "execution_count": 398,
   "id": "a2e398fb",
   "metadata": {},
   "outputs": [],
   "source": [
    "#step 4"
   ]
  },
  {
   "cell_type": "code",
   "execution_count": 399,
   "id": "772c8ab6-0e77-4fd3-a0a0-e5e7fc89b555",
   "metadata": {},
   "outputs": [],
   "source": [
    "centroids[0] = np.mean(clusters[0],axis = 0)"
   ]
  },
  {
   "cell_type": "code",
   "execution_count": 400,
   "id": "120acb91-d23e-427d-a4f1-ec91800bb1bf",
   "metadata": {},
   "outputs": [],
   "source": [
    "centroids[1] = np.mean(clusters[1],axis = 0)"
   ]
  },
  {
   "cell_type": "code",
   "execution_count": 401,
   "id": "fc75111a",
   "metadata": {},
   "outputs": [],
   "source": [
    "centroids[2] = np.mean(clusters[2],axis = 0)"
   ]
  },
  {
   "cell_type": "code",
   "execution_count": 402,
   "id": "354791c0",
   "metadata": {},
   "outputs": [
    {
     "data": {
      "text/plain": [
       "array([[1.63388889e+02, 7.27777778e+00, 7.70000000e+00, 7.73888889e-01],\n",
       "       [1.04307692e+02, 6.00000000e+00, 6.64615385e+00, 7.48461538e-01],\n",
       "       [3.30860000e+03, 7.97000000e+00, 9.04000000e+00, 7.43000000e-01],\n",
       "       [8.40000000e+01, 6.00000000e+00, 4.60000000e+00, 7.90000000e-01]])"
      ]
     },
     "execution_count": 402,
     "metadata": {},
     "output_type": "execute_result"
    }
   ],
   "source": [
    "centroids[3] = np.mean(clusters[3],axis = 0)\n",
    "centroids "
   ]
  },
  {
   "cell_type": "code",
   "execution_count": 403,
   "id": "cc6ec52f",
   "metadata": {},
   "outputs": [],
   "source": [
    "#step 5"
   ]
  },
  {
   "cell_type": "code",
   "execution_count": 404,
   "id": "0342320b",
   "metadata": {},
   "outputs": [
    {
     "name": "stdout",
     "output_type": "stream",
     "text": [
      "[201.0952381    7.45238095   8.01428571   0.77071429]\n",
      "[120.22222222   6.01111111   8.13333333   0.72      ]\n",
      "[3.0e+04 7.1e+00 7.5e+00 7.8e-01]\n",
      "[80.5     5.925   4.325   0.7975]\n",
      "\n",
      "[233.84    7.616   8.38    0.764]\n",
      "[141.61538462   6.79615385   7.70384615   0.75961538]\n",
      "[3.0e+04 7.1e+00 7.5e+00 7.8e-01]\n",
      "[80.5     5.925   4.325   0.7975]\n",
      "\n",
      "[313.81818182   7.99090909   9.14545455   0.71090909]\n",
      "[151.9       6.98      7.73      0.77575]\n",
      "[3.0e+04 7.1e+00 7.5e+00 7.8e-01]\n",
      "[80.5     5.925   4.325   0.7975]\n",
      "\n",
      "[515.       8.85     8.825    0.7275]\n",
      "[162.88372093   7.14883721   7.96976744   0.76883721]\n",
      "[3.0e+04 7.1e+00 7.5e+00 7.8e-01]\n",
      "[98.25     6.       6.1375   0.75875]\n",
      "\n",
      "[515.       8.85     8.825    0.7275]\n",
      "[167.12820513   7.26666667   7.94871795   0.77410256]\n",
      "[3.0e+04 7.1e+00 7.5e+00 7.8e-01]\n",
      "[106.           6.           6.81666667   0.745     ]\n",
      "\n",
      "[515.       8.85     8.825    0.7275]\n",
      "[168.05263158   7.30526316   7.92894737   0.77526316]\n",
      "[3.0e+04 7.1e+00 7.5e+00 7.8e-01]\n",
      "[108.           5.98461538   6.96153846   0.74384615]\n",
      "\n",
      "[515.       8.85     8.825    0.7275]\n",
      "[168.05263158   7.30526316   7.92894737   0.77526316]\n",
      "[3.0e+04 7.1e+00 7.5e+00 7.8e-01]\n",
      "[108.           5.98461538   6.96153846   0.74384615]\n",
      "\n",
      "[515.       8.85     8.825    0.7275]\n",
      "[168.05263158   7.30526316   7.92894737   0.77526316]\n",
      "[3.0e+04 7.1e+00 7.5e+00 7.8e-01]\n",
      "[108.           5.98461538   6.96153846   0.74384615]\n",
      "\n",
      "[515.       8.85     8.825    0.7275]\n",
      "[168.05263158   7.30526316   7.92894737   0.77526316]\n",
      "[3.0e+04 7.1e+00 7.5e+00 7.8e-01]\n",
      "[108.           5.98461538   6.96153846   0.74384615]\n",
      "\n",
      "[515.       8.85     8.825    0.7275]\n",
      "[168.05263158   7.30526316   7.92894737   0.77526316]\n",
      "[3.0e+04 7.1e+00 7.5e+00 7.8e-01]\n",
      "[108.           5.98461538   6.96153846   0.74384615]\n",
      "\n"
     ]
    }
   ],
   "source": [
    "for i in range(10):\n",
    "    clusters = [[],[],[],[]]\n",
    "    for x in X_:\n",
    "        id = np.argmin(euclidian_distance(x,centroids))\n",
    "        clusters[id].append(x)\n",
    "    c = np.array(clusters, dtype = object)\n",
    "        \n",
    "    for i in range(K):\n",
    "        centroids[i] = np.mean(c[i],axis = 0)\n",
    "        print(centroids[i])\n",
    "    print()"
   ]
  },
  {
   "cell_type": "code",
   "execution_count": null,
   "id": "e9a90550",
   "metadata": {},
   "outputs": [],
   "source": []
  },
  {
   "cell_type": "code",
   "execution_count": null,
   "id": "665b90c3",
   "metadata": {},
   "outputs": [],
   "source": []
  },
  {
   "cell_type": "code",
   "execution_count": null,
   "id": "e0f5a858",
   "metadata": {},
   "outputs": [],
   "source": []
  },
  {
   "cell_type": "code",
   "execution_count": null,
   "id": "254b7851",
   "metadata": {},
   "outputs": [],
   "source": []
  }
 ],
 "metadata": {
  "kernelspec": {
   "display_name": "Python 3 (ipykernel)",
   "language": "python",
   "name": "python3"
  },
  "language_info": {
   "codemirror_mode": {
    "name": "ipython",
    "version": 3
   },
   "file_extension": ".py",
   "mimetype": "text/x-python",
   "name": "python",
   "nbconvert_exporter": "python",
   "pygments_lexer": "ipython3",
   "version": "3.9.7"
  }
 },
 "nbformat": 4,
 "nbformat_minor": 5
}
