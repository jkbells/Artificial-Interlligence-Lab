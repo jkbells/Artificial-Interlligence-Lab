{
 "cells": [
  {
   "cell_type": "code",
   "execution_count": 1,
   "id": "5faa2faa",
   "metadata": {},
   "outputs": [
    {
     "name": "stdout",
     "output_type": "stream",
     "text": [
      "Number of bins required in Next Fit: 4\n"
     ]
    }
   ],
   "source": [
    "def nextfit(weight, c):\n",
    "    res = 0\n",
    "    rem = c\n",
    "    for _ in range(len(weight)):\n",
    "        if rem >= weight[_]:\n",
    "            rem = rem - weight[_]\n",
    "        else:\n",
    "            res += 1\n",
    "            rem = c - weight[_]\n",
    "    return res\n",
    "\n",
    "weight = [2, 5, 4, 7, 1, 3, 8]\n",
    "c = 10\n",
    "\n",
    "print(\"Number of bins required in Next Fit:\", nextfit(weight, c))"
   ]
  },
  {
   "cell_type": "code",
   "execution_count": 2,
   "id": "bb6e05a0",
   "metadata": {},
   "outputs": [
    {
     "name": "stdout",
     "output_type": "stream",
     "text": [
      "Number of bins required in First Fit :  4\n"
     ]
    }
   ],
   "source": [
    "def firstFit(weight, n, c):\n",
    "    res = 0\n",
    "    bin_rem = [0]*n\n",
    "    for i in range(n):\n",
    "       \n",
    "        j = 0\n",
    "        while( j < res):\n",
    "            if (bin_rem[j] >= weight[i]):\n",
    "                bin_rem[j] = bin_rem[j] - weight[i]\n",
    "                break\n",
    "            j+=1\n",
    "             \n",
    "        if (j == res):\n",
    "            bin_rem[res] = c - weight[i]\n",
    "            res= res+1\n",
    "    return res\n",
    "     \n",
    "weight = [2, 5, 4, 7, 1, 3, 8]\n",
    "c = 10\n",
    "n = len(weight)\n",
    "print(\"Number of bins required in First Fit : \",firstFit(weight, n, c))\n",
    " "
   ]
  },
  {
   "cell_type": "code",
   "execution_count": 4,
   "id": "88079947",
   "metadata": {},
   "outputs": [
    {
     "name": "stdout",
     "output_type": "stream",
     "text": [
      "Number of bins required in First Fit :  4\n"
     ]
    }
   ],
   "source": [
    "def firstFit(weight, n, c):\n",
    "     \n",
    "    # Initialize result (Count of bins)\n",
    "    res = 0;\n",
    " \n",
    "    bin_rem = [0]*n;\n",
    " \n",
    "    for i in range(n):\n",
    "         \n",
    "        j = 0;\n",
    "        min = c + 1;\n",
    "        bi = 0;\n",
    " \n",
    "        for j in range(res):\n",
    "            if (bin_rem[j] >= weight[i] and bin_rem[j] -\n",
    "                                       weight[i] < min):\n",
    "                bi = j;\n",
    "                min = bin_rem[j] - weight[i];\n",
    "             \n",
    "        # If no bin could accommodate weight[i],\n",
    "        # create a new bin\n",
    "        if (min == c + 1):\n",
    "            bin_rem[res] = c - weight[i];\n",
    "            res += 1;\n",
    "        else: # Assign the item to best bin\n",
    "            bin_rem[bi] -= weight[i];\n",
    "    return res;\n",
    " \n",
    "if __name__ == '__main__':\n",
    "    weight = [ 2, 5, 4, 7, 1, 3, 8 ];\n",
    "    c = 10;\n",
    "    n = len(weight);\n",
    "    print(\"Number of bins required in First Fit : \",\n",
    "                             firstFit(weight, n, c));\n",
    "     "
   ]
  },
  {
   "cell_type": "code",
   "execution_count": 5,
   "id": "2897e7ae",
   "metadata": {},
   "outputs": [
    {
     "name": "stdout",
     "output_type": "stream",
     "text": [
      "Number of bins required in Worst Fit : 4\n"
     ]
    }
   ],
   "source": [
    "def worstFit( weight, n, c):\n",
    "    res = 0\n",
    "    bin_rem = [0 for i in range(n)]\n",
    "     \n",
    "    for i in range(n):\n",
    "        mx,wi = -1,0\n",
    " \n",
    "        for j in range(res):\n",
    "            if (bin_rem[j] >= weight[i] and bin_rem[j] - weight[i] > mx):\n",
    "                wi = j\n",
    "                mx = bin_rem[j] - weight[i]\n",
    "            \n",
    "        if (mx == -1):\n",
    "            bin_rem[res] = c - weight[i]\n",
    "            res += 1\n",
    "         \n",
    "        else: \n",
    "            bin_rem[wi] -= weight[i]\n",
    "     \n",
    "    return res\n",
    "\n",
    "weight = [ 2, 5, 4, 7, 1, 3, 8 ]\n",
    "c = 10\n",
    "n = len(weight)\n",
    "print(f\"Number of bins required in Worst Fit : {worstFit(weight, n, c)}\")\n",
    " "
   ]
  },
  {
   "cell_type": "code",
   "execution_count": 6,
   "id": "22a4d84e",
   "metadata": {},
   "outputs": [
    {
     "name": "stdout",
     "output_type": "stream",
     "text": [
      "Number of bins required in First Fit Decreasing :  3\n"
     ]
    }
   ],
   "source": [
    "def firstFit(weight, n, c):\n",
    "    res = 0\n",
    "    bin_rem = [0]*n\n",
    "     \n",
    "    for i in range(n):\n",
    "       \n",
    "        j = 0\n",
    "        while( j < res):\n",
    "            if (bin_rem[j] >= weight[i]):\n",
    "                bin_rem[j] = bin_rem[j] - weight[i]\n",
    "                break\n",
    "            j+=1\n",
    "             \n",
    "        if (j == res):\n",
    "            bin_rem[res] = c - weight[i]\n",
    "            res= res+1\n",
    "    return res\n",
    "     \n",
    "def firstFitDec(weight, n, c):\n",
    " \n",
    "    weight.sort(reverse = True)\n",
    "    return firstFit(weight, n, c)\n",
    "weight = [ 2, 5, 4, 7, 1, 3, 8 ]\n",
    "c = 10\n",
    "n = len(weight)\n",
    "print(\"Number of bins required in First Fit Decreasing : \",str(firstFitDec(weight, n, c)))\n",
    " "
   ]
  },
  {
   "cell_type": "code",
   "execution_count": null,
   "id": "c544de64",
   "metadata": {},
   "outputs": [],
   "source": []
  }
 ],
 "metadata": {
  "kernelspec": {
   "display_name": "Python 3 (ipykernel)",
   "language": "python",
   "name": "python3"
  },
  "language_info": {
   "codemirror_mode": {
    "name": "ipython",
    "version": 3
   },
   "file_extension": ".py",
   "mimetype": "text/x-python",
   "name": "python",
   "nbconvert_exporter": "python",
   "pygments_lexer": "ipython3",
   "version": "3.9.7"
  }
 },
 "nbformat": 4,
 "nbformat_minor": 5
}
