{
 "cells": [
  {
   "cell_type": "code",
   "execution_count": 3,
   "id": "b423e7d4",
   "metadata": {},
   "outputs": [
    {
     "name": "stdout",
     "output_type": "stream",
     "text": [
      "Enter the range of the number:50\n"
     ]
    }
   ],
   "source": [
    "number = int(input(\"Enter the range of the number:\"))\n"
   ]
  },
  {
   "cell_type": "code",
   "execution_count": 4,
   "id": "039d5d92",
   "metadata": {},
   "outputs": [
    {
     "name": "stdout",
     "output_type": "stream",
     "text": [
      "Prime numbers: 1 2 3 5 7 11 13 17 19 23 29 31 37 41 43 47 "
     ]
    }
   ],
   "source": [
    "print(\"Prime numbers:\",end=' ')\n",
    "\n",
    "for n in range(1,number):\n",
    "\n",
    "    for i in range(2,n):\n",
    "\n",
    "        if(n%i==0):\n",
    "\n",
    "            break\n",
    "\n",
    "    else:\n",
    "\n",
    "        print(n,end=' ')  "
   ]
  },
  {
   "cell_type": "code",
   "execution_count": null,
   "id": "8adc5d8f",
   "metadata": {},
   "outputs": [],
   "source": []
  }
 ],
 "metadata": {
  "kernelspec": {
   "display_name": "Python 3",
   "language": "python",
   "name": "python3"
  },
  "language_info": {
   "codemirror_mode": {
    "name": "ipython",
    "version": 3
   },
   "file_extension": ".py",
   "mimetype": "text/x-python",
   "name": "python",
   "nbconvert_exporter": "python",
   "pygments_lexer": "ipython3",
   "version": "3.8.8"
  }
 },
 "nbformat": 4,
 "nbformat_minor": 5
}
