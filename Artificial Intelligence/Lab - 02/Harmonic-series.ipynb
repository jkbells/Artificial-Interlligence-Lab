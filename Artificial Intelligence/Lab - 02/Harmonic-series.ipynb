{
 "cells": [
  {
   "cell_type": "code",
   "execution_count": 1,
   "id": "5d0cd78f",
   "metadata": {},
   "outputs": [
    {
     "name": "stdout",
     "output_type": "stream",
     "text": [
      "Enter integer here: 5\n",
      "2.28\n"
     ]
    }
   ],
   "source": [
    "N = int(input('Enter integer here: '))\n",
    "j = 0\n",
    "for i in range(1,N+1):\n",
    "  j = j + 1/i\n",
    "print(round(j,2))"
   ]
  },
  {
   "cell_type": "code",
   "execution_count": null,
   "id": "40135500",
   "metadata": {},
   "outputs": [],
   "source": []
  }
 ],
 "metadata": {
  "kernelspec": {
   "display_name": "Python 3",
   "language": "python",
   "name": "python3"
  },
  "language_info": {
   "codemirror_mode": {
    "name": "ipython",
    "version": 3
   },
   "file_extension": ".py",
   "mimetype": "text/x-python",
   "name": "python",
   "nbconvert_exporter": "python",
   "pygments_lexer": "ipython3",
   "version": "3.8.8"
  }
 },
 "nbformat": 4,
 "nbformat_minor": 5
}
