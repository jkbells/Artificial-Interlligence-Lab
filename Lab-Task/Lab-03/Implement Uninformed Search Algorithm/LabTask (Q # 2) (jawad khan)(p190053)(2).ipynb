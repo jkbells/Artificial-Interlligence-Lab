{
 "cells": [
  {
   "cell_type": "code",
   "execution_count": 1,
   "metadata": {},
   "outputs": [],
   "source": [
    "\n",
    "def IDFS(start, goal, path, level, maxD):\n",
    "  print('\\nCurrent level-->', level)\n",
    "  print('Goal: ', goal)\n",
    "  path.append(start)\n",
    "  if start == goal:\n",
    "    print(\"Goal Test successful for: \", start)\n",
    "    return path\n",
    "  print('Goal Testing failed for: ', start)\n",
    "  if level == maxD:\n",
    "    return False\n",
    "  print('\\nExpanding: ', start)\n",
    "  for child in graph[start]:\n",
    "    if IDFS(child, goal, path, level+1, maxD):\n",
    "      return path\n",
    "    path.pop()\n",
    "  return False\n"
   ]
  },
  {
   "cell_type": "code",
   "execution_count": 2,
   "metadata": {},
   "outputs": [
    {
     "name": "stdout",
     "output_type": "stream",
     "text": [
      "\n",
      "\n",
      "Current level--> 0\n",
      "Goal:  8\n",
      "Goal Testing failed for:  S\n",
      "\n",
      "Expanding:  S\n",
      "\n",
      "Current level--> 1\n",
      "Goal:  8\n",
      "Goal Testing failed for:  2\n",
      "\n",
      "Expanding:  2\n",
      "\n",
      "Current level--> 2\n",
      "Goal:  8\n",
      "Goal Testing failed for:  4\n",
      "\n",
      "Expanding:  4\n",
      "\n",
      "Current level--> 3\n",
      "Goal:  8\n",
      "Goal Testing failed for:  5\n",
      "\n",
      "Expanding:  5\n",
      "\n",
      "Current level--> 3\n",
      "Goal:  8\n",
      "Goal Test successful for:  8\n",
      "Path ['S', '2', '4', '8']\n"
     ]
    }
   ],
   "source": [
    "graph = {\n",
    "    'S': ['2', '3', '5'],\n",
    "    '2': ['4', '5'],\n",
    "    '3': ['5', '6'],\n",
    "    '5': [],\n",
    "    '6': ['7', '9'],\n",
    "    '4': ['5', '8'],\n",
    "    '7': ['4', '5', '8'],\n",
    "    '8': [],\n",
    "    '9': ['7', '8']\n",
    "}\n",
    "\n",
    "start = 'S'\n",
    "goal = '8'\n",
    "maxD = 4\n",
    "print()\n",
    "path = list()\n",
    "res = IDFS(start, goal, path, 0, maxD)\n",
    "if(res):\n",
    "    print(\"Path\", path)\n",
    "else:\n",
    "    print(\"No path available to reach goal\")\n"
   ]
  },
  {
   "cell_type": "code",
   "execution_count": null,
   "metadata": {},
   "outputs": [],
   "source": []
  }
 ],
 "metadata": {
  "interpreter": {
   "hash": "94dfd0829861ea723591b3001b7b8d6efd29c21741fffd6b6a162c01382c010b"
  },
  "kernelspec": {
   "display_name": "Python 3 (ipykernel)",
   "language": "python",
   "name": "python3"
  },
  "language_info": {
   "codemirror_mode": {
    "name": "ipython",
    "version": 3
   },
   "file_extension": ".py",
   "mimetype": "text/x-python",
   "name": "python",
   "nbconvert_exporter": "python",
   "pygments_lexer": "ipython3",
   "version": "3.9.7"
  }
 },
 "nbformat": 4,
 "nbformat_minor": 2
}
