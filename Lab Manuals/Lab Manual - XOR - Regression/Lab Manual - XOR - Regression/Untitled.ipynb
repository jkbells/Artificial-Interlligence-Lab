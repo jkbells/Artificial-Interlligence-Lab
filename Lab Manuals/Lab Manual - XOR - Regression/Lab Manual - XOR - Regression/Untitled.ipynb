{
 "cells": [
  {
   "cell_type": "markdown",
   "id": "eec2b207-988a-4c83-80e7-45dcec28a4ba",
   "metadata": {},
   "source": [
    "### **TASK 1**\n",
    "Use the implementation of perceptron from the last lab manual and model the truth table of XOR.\n",
    "\n",
    "![XOR](./XOR.png \"XOR\")\n"
   ]
  },
  {
   "cell_type": "markdown",
   "id": "3c8a42c1-c399-4682-bb3f-7674319e3313",
   "metadata": {},
   "source": [
    "### **TASK 2**\n",
    "1. Import the diabetes dataset. You can find data description in the description file.\n",
    "2. Use pandas plots to have a look and feel of the different attributes of the data.\n",
    "3. Apply perceptron algorithm to model the data distribution.\n",
    "4. Use mean squared error as your cost/ error function.\n",
    "5. Use the below given derivatives to find gradients of each W.\n",
    "\n",
    "![MSE](./MSE.png \"MSE\")\n",
    "\n",
    "![MSE derivative](./derivativeMSE.png \"MSE derivative\")\n"
   ]
  },
  {
   "cell_type": "code",
   "execution_count": null,
   "id": "02049a0e-1577-47b7-8bb0-f837b491b7bf",
   "metadata": {},
   "outputs": [],
   "source": []
  }
 ],
 "metadata": {
  "kernelspec": {
   "display_name": "Python 3 (ipykernel)",
   "language": "python",
   "name": "python3"
  },
  "language_info": {
   "codemirror_mode": {
    "name": "ipython",
    "version": 3
   },
   "file_extension": ".py",
   "mimetype": "text/x-python",
   "name": "python",
   "nbconvert_exporter": "python",
   "pygments_lexer": "ipython3",
   "version": "3.9.7"
  }
 },
 "nbformat": 4,
 "nbformat_minor": 5
}
