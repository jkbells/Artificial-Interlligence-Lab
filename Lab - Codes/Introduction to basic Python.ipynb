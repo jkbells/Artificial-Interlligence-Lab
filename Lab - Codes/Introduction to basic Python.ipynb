{
 "cells": [
  {
   "cell_type": "markdown",
   "metadata": {},
   "source": [
    "# Why Python?\n",
    "\n",
    "Python is the most popular programming language. It was created by Guido van Rossum, and released in 1991. Python is used for data science as well as software development. It offers a wide variety of libraries that support data science operation.\n",
    "\n",
    "Python is a mature programming language but it also has excellent properties for newbie programmers, making it ideal for people who have never programmed before.\n",
    "\n",
    "Some of the most remarkable properties of Python are as follow;\n",
    "1. Easy to read code\n",
    "2. Suppression of non-mandatory delimiters\n",
    "3. Python uses indentation to define scope\n",
    "4. Dynamic typed, and dynamic memory usage\n",
    "5. Python is an interpreted language, the code is executed immediately in the Python console\n",
    "6. Python can be run on interactive consoles (Jupyter notebook, IPython) \n",
    "7. Python works on different platforms (Windows, Mac, Linux, Raspberry Pi, etc)\n",
    "8. Python has a simple syntax similar to the English language and allows developers to write programs with fewer lines.\n",
    "9. Python can be treated in a procedural way or an object-orientated way."
   ]
  },
  {
   "cell_type": "markdown",
   "metadata": {},
   "source": [
    "## Writing the First Python Program\n"
   ]
  },
  {
   "cell_type": "code",
   "execution_count": 1,
   "metadata": {},
   "outputs": [
    {
     "name": "stdout",
     "output_type": "stream",
     "text": [
      "Hello, World!\n"
     ]
    }
   ],
   "source": [
    "print (\"Hello, World!\")\n"
   ]
  },
  {
   "cell_type": "markdown",
   "metadata": {},
   "source": [
    "## Creating Variables\n",
    "#### Variables are containers for storing data values.\n",
    "#### A variable is created the moment you first assign a value to it"
   ]
  },
  {
   "cell_type": "code",
   "execution_count": 2,
   "metadata": {},
   "outputs": [
    {
     "name": "stdout",
     "output_type": "stream",
     "text": [
      "Integer Variable:  10\n",
      "String Variable Pakistan\n"
     ]
    }
   ],
   "source": [
    "x = 10\n",
    "y = \"Pakistan\"\n",
    "print(\"Integer Variable: \", x)\n",
    "print(\"String Variable\", y)\n",
    "#print(type(x))"
   ]
  },
  {
   "cell_type": "markdown",
   "metadata": {},
   "source": [
    "#### Variables do not need to be declared with any particular type and can even change type after they have been set."
   ]
  },
  {
   "cell_type": "code",
   "execution_count": 3,
   "metadata": {},
   "outputs": [
    {
     "name": "stdout",
     "output_type": "stream",
     "text": [
      "Converted to String\n"
     ]
    }
   ],
   "source": [
    "x = 10 # Here x is of type int\n",
    "x = \"Converted to String\" # Here, the type of x is changed to string\n",
    "print(x)"
   ]
  },
  {
   "cell_type": "markdown",
   "metadata": {},
   "source": [
    "## Variable Name\n",
    "Variable name must start with a letter or the underscore character\n",
    "\n",
    "Variable name cannot start with a number\n",
    "\n",
    "Variable name can only contain alpha-numeric characters and underscores (A-z, 0-9, and _ )\n",
    "\n",
    "Variable names are case-sensitive"
   ]
  },
  {
   "cell_type": "code",
   "execution_count": 4,
   "metadata": {},
   "outputs": [],
   "source": [
    "#Legal variable names:\n",
    "myvar = \"John\"\n",
    "my_var = \"John\"\n",
    "_my_var = \"John\"\n",
    "myVar = \"John\"\n",
    "MYVAR = \"John\"\n",
    "myvar2 = \"John\"\n",
    "\n",
    "#Illegal variable names:\n",
    "#2myvar = \"John\" \n",
    "#my-var = \"John\"\n",
    "#my var = \"John\""
   ]
  },
  {
   "cell_type": "markdown",
   "metadata": {},
   "source": [
    "## Python Built-in Data Types\n",
    "Variables store data of different types\n",
    "\n",
    "Python has the following built-in data types, in these categories:\n",
    "\n",
    "1. Text Type:-----  str\n",
    "2. Numeric Types:-----\tint, float, complex\n",
    "3. Sequence Types:-----\tlist, tuple, range\n",
    "4. Mapping Type:-----\tdict\n",
    "5. Set Types:-----\tset, frozenset\n",
    "6. Boolean Type:-----\tbool\n",
    "7. Binary Types:-----\tbytes, bytearray, memoryview\n"
   ]
  },
  {
   "cell_type": "code",
   "execution_count": 8,
   "metadata": {},
   "outputs": [
    {
     "name": "stdout",
     "output_type": "stream",
     "text": [
      "apple\n",
      "banana\n",
      "cherry\n"
     ]
    }
   ],
   "source": [
    "x_str = \"Hello World\"\n",
    "x_int = 20\n",
    "x_flt = 20.5\n",
    "x_com = 1j\n",
    "x_list = [\"apple\", \"banana\", \"cherry\", 9]\n",
    "x_tpl = (\"apple\", \"banana\", \"cherry\")\n",
    "\n",
    "x_range = range(3,6) #An in-built function. It returns a sequence of numbers.\n",
    "#range(start, stop, step)\n",
    "#start: Optional parameter.  Starting point of sequence. By default, it’s zero.\n",
    "#stop:  Mandatory parameter. Stopping point of the sequence, Sequence stops just before the given number.\n",
    "#step:  Optional parameter.  The incrementation on each iteration. By default, the value is one.\n",
    "        \n",
    "x_dic = {\"name\" : \"John\", \"age\" : 36}\n",
    "x_set = {\"apple\", \"banana\", \"cherry\"}\n",
    "x_fset = frozenset({\"apple\", \"banana\", \"cherry\"}) #is an immutable version of a Python set object\n",
    "x_bol = True\n",
    "\n",
    "#print(type(x_rang))\n",
    "\n",
    "for x_val in x_fset:\n",
    "    print(x_val)\n",
    "    \n"
   ]
  },
  {
   "cell_type": "code",
   "execution_count": 11,
   "metadata": {},
   "outputs": [],
   "source": [
    "x_list = [\"apple\", \"banana\", \"cherry\", 9]\n",
    "x_list.append(\"Mango\")"
   ]
  },
  {
   "cell_type": "code",
   "execution_count": 12,
   "metadata": {},
   "outputs": [
    {
     "name": "stdout",
     "output_type": "stream",
     "text": [
      "['apple', 'banana', 'cherry', 9, 'Mango']\n"
     ]
    }
   ],
   "source": [
    "print(x_list)"
   ]
  },
  {
   "cell_type": "code",
   "execution_count": 13,
   "metadata": {},
   "outputs": [],
   "source": [
    "myd = {x_fset: 989}"
   ]
  },
  {
   "cell_type": "code",
   "execution_count": 14,
   "metadata": {},
   "outputs": [
    {
     "data": {
      "text/plain": [
       "989"
      ]
     },
     "execution_count": 14,
     "metadata": {},
     "output_type": "execute_result"
    }
   ],
   "source": [
    "myd[x_fset]"
   ]
  },
  {
   "cell_type": "code",
   "execution_count": null,
   "metadata": {},
   "outputs": [],
   "source": []
  },
  {
   "cell_type": "code",
   "execution_count": null,
   "metadata": {},
   "outputs": [],
   "source": []
  },
  {
   "cell_type": "code",
   "execution_count": null,
   "metadata": {},
   "outputs": [],
   "source": []
  },
  {
   "cell_type": "code",
   "execution_count": 15,
   "metadata": {},
   "outputs": [
    {
     "name": "stdout",
     "output_type": "stream",
     "text": [
      "{1, 3}\n",
      "{1, 2, 3}\n",
      "{1, 2, 3, 4}\n",
      "{1, 2, 3, 4, 5, 6, 8}\n"
     ]
    }
   ],
   "source": [
    "# initialize my_set\n",
    "my_set = {1, 3}\n",
    "print(my_set)\n",
    "\n",
    "#print(my_set[0])  # TypeError: 'set' object does not support indexing\n",
    "\n",
    "my_set.add(2)\n",
    "print(my_set)\n",
    "\n",
    "# add multiple elements\n",
    "# Output: {1, 2, 3, 4}\n",
    "my_set.update([2, 3, 4])\n",
    "print(my_set)\n",
    "\n",
    "# add list and set\n",
    "# Output: {1, 2, 3, 4, 5, 6, 8}\n",
    "my_set.update([4, 5], {1, 6, 8})\n",
    "print(my_set)\n",
    "\n"
   ]
  },
  {
   "cell_type": "code",
   "execution_count": 21,
   "metadata": {},
   "outputs": [
    {
     "name": "stdout",
     "output_type": "stream",
     "text": [
      "{1, 3, 4, 5, 6}\n",
      "{1, 3, 5, 6}\n",
      "{1, 3, 5}\n",
      "{1, 3, 5}\n"
     ]
    }
   ],
   "source": [
    "# initialize my_set\n",
    "my_set = {1, 3, 4, 5, 6}\n",
    "print(my_set)\n",
    "\n",
    "# discard an element\n",
    "my_set.discard(4)\n",
    "print(my_set)\n",
    "\n",
    "# remove an element\n",
    "my_set.remove(6)\n",
    "print(my_set)\n",
    "\n",
    "# discard an element does not throw an error, if element is not present in a set \n",
    "my_set.discard(2)\n",
    "print(my_set)\n",
    "\n",
    "# remove an element throws an error, if element is not present in a set \n",
    "#my_set.remove(2)\n"
   ]
  },
  {
   "cell_type": "markdown",
   "metadata": {},
   "source": [
    "## Setting the Specific Data Type\n",
    "\n"
   ]
  },
  {
   "cell_type": "code",
   "execution_count": 37,
   "metadata": {},
   "outputs": [],
   "source": [
    "x_str = str(\"Hello World\")\n",
    "x_int = int(100)\n",
    "x_flt = float(100.5)\n",
    "x_comp = complex(2j)\n",
    "x_list = list((\"apple\", \"banana\", \"cherry\"))\n",
    "x_tpl = tuple((\"apple\", \"banana\", \"cherry\"))\n",
    "x_rang = range(10)\n",
    "x_dic = dict(name=\"Ali\", age=40)\n",
    "x_set = set((\"apple\", \"banana\", \"cherry\"))\n",
    "x_fset = frozenset((\"apple\", \"banana\", \"cherry\"))\n",
    "x_bol = bool(15)\n",
    "x_byt = bytes(15)\n",
    "x_byt_arr = bytearray(15)\n",
    "x_mem = memoryview(bytes(15))"
   ]
  },
  {
   "cell_type": "code",
   "execution_count": 38,
   "metadata": {},
   "outputs": [
    {
     "name": "stdout",
     "output_type": "stream",
     "text": [
      "202020\n",
      "60\n"
     ]
    }
   ],
   "source": [
    "value = '20'\n",
    "prod_str = value * 3\n",
    "prod_int = int(value) * 3\n",
    "\n",
    "print(prod_str)\n",
    "print(prod_int)"
   ]
  },
  {
   "cell_type": "code",
   "execution_count": 39,
   "metadata": {},
   "outputs": [
    {
     "name": "stdout",
     "output_type": "stream",
     "text": [
      "\n"
     ]
    }
   ],
   "source": [
    "x_comp = ''\n",
    "print(x_comp)"
   ]
  },
  {
   "cell_type": "code",
   "execution_count": 40,
   "metadata": {},
   "outputs": [
    {
     "name": "stdout",
     "output_type": "stream",
     "text": [
      "{'name': 'Ali', 'age': 40}\n"
     ]
    }
   ],
   "source": [
    "print(x_dic)\n"
   ]
  },
  {
   "cell_type": "markdown",
   "metadata": {},
   "source": [
    "## Python Casting\n",
    "\n",
    "Casting in python is done using constructor functions:\n",
    "\n",
    "int() - constructs an integer number from an integer literal, a float by rounding to the whole part in a number, a string providing the string represents a valid number\n",
    " \n",
    "float() - constructs a float number from an integer literal, a float literal or a string literal providing the string represents a valid number.\n",
    "\n",
    "str() - constructs a string from a wide variety of data types, including strings, integer literals and float literals\n"
   ]
  },
  {
   "cell_type": "code",
   "execution_count": 43,
   "metadata": {},
   "outputs": [
    {
     "name": "stdout",
     "output_type": "stream",
     "text": [
      "5\n"
     ]
    }
   ],
   "source": [
    "x = int(20)   # x will be 20\n",
    "y = int(5.8) # y will be 5\n",
    "z = int(\"12\") # z will be 12\n",
    "#w = int(\"13d\") # Invalid literal \n",
    "print(y)"
   ]
  },
  {
   "cell_type": "code",
   "execution_count": 26,
   "metadata": {},
   "outputs": [
    {
     "name": "stdout",
     "output_type": "stream",
     "text": [
      "5.6\n"
     ]
    }
   ],
   "source": [
    "x = float(30)     # x will be 30.0\n",
    "y = float(4.5)   # y will be 4.5\n",
    "z = float(\"456\")   # z will be 456\n",
    "w = float(\"5.6\") # w will be 5.6\n",
    "#x_in = float(\"5.6c\") # Invalid string\n",
    "print(w)"
   ]
  },
  {
   "cell_type": "code",
   "execution_count": 44,
   "metadata": {},
   "outputs": [
    {
     "name": "stdout",
     "output_type": "stream",
     "text": [
      "Values are 1, 2, 4..\n"
     ]
    }
   ],
   "source": [
    "x = str(\"Values are 1, 2, 4..\") # x will be 'Values are 1, 2, 4..'\n",
    "y = str(56)    # y will be '56'\n",
    "z = str(20.0)  # z will be '20.0'\n",
    "print(x)"
   ]
  },
  {
   "cell_type": "markdown",
   "metadata": {},
   "source": [
    "## Python Booleans\n",
    "\n",
    "Booleans represent one of two values: True or False."
   ]
  },
  {
   "cell_type": "code",
   "execution_count": 46,
   "metadata": {},
   "outputs": [
    {
     "name": "stdout",
     "output_type": "stream",
     "text": [
      "True\n",
      "False\n",
      "True\n",
      "False\n",
      "False\n"
     ]
    }
   ],
   "source": [
    "x = True\n",
    "y = False\n",
    "\n",
    "print(x)\n",
    "print(y)\n",
    "\n",
    "print(10 > 9)\n",
    "print(10 == 9)\n",
    "print(10 < 9)\n"
   ]
  },
  {
   "cell_type": "code",
   "execution_count": 47,
   "metadata": {},
   "outputs": [],
   "source": []
  },
  {
   "cell_type": "code",
   "execution_count": 48,
   "metadata": {},
   "outputs": [
    {
     "name": "stdout",
     "output_type": "stream",
     "text": [
      "X is True\n"
     ]
    }
   ],
   "source": [
    "if (x):\n",
    "    print(\"X is True\")\n",
    "else:\n",
    "    print(\"X is False\")\n",
    "        "
   ]
  },
  {
   "cell_type": "code",
   "execution_count": 49,
   "metadata": {},
   "outputs": [
    {
     "name": "stdout",
     "output_type": "stream",
     "text": [
      "False\n",
      "True\n",
      "True\n"
     ]
    }
   ],
   "source": [
    "print(bool(0))\n",
    "print(bool(1))\n",
    "print(bool(-1))\n"
   ]
  },
  {
   "cell_type": "code",
   "execution_count": 129,
   "metadata": {},
   "outputs": [
    {
     "name": "stdout",
     "output_type": "stream",
     "text": [
      "True\n",
      "False\n",
      "False\n",
      "True\n",
      "True\n",
      "False\n",
      "nan\n"
     ]
    }
   ],
   "source": [
    "print(bool(\"Hello\"))\n",
    "print(bool(''))\n",
    "print(bool(\"\"))\n",
    "print(bool(' '))\n",
    "print(bool('None'))\n",
    "print(bool(None))"
   ]
  },
  {
   "cell_type": "code",
   "execution_count": 159,
   "metadata": {},
   "outputs": [
    {
     "name": "stdout",
     "output_type": "stream",
     "text": [
      "Not Equal\n"
     ]
    }
   ],
   "source": [
    "# In Python, NaN is a special floating-point value returned by certain operations \n",
    "# when one of their results ends in an undefined value. \n",
    "# A subtle feature of NaN values is that two NaN are never equal. \n",
    "\n",
    "if float('NaN') == float('NaN'):\n",
    "    print(\"Equal\")\n",
    "else:\n",
    "    print(\"Not Equal\")"
   ]
  },
  {
   "cell_type": "code",
   "execution_count": 160,
   "metadata": {},
   "outputs": [
    {
     "name": "stdout",
     "output_type": "stream",
     "text": [
      "True\n",
      "nan\n",
      "False\n"
     ]
    }
   ],
   "source": [
    "import numpy as np\n",
    "print(bool(np.nan))\n",
    "print(np.nan)\n",
    "\n",
    "if np.nan == np.nan:\n",
    "    print(True)\n",
    "else:\n",
    "    print(False)"
   ]
  },
  {
   "cell_type": "code",
   "execution_count": 161,
   "metadata": {},
   "outputs": [
    {
     "name": "stdout",
     "output_type": "stream",
     "text": [
      "False\n",
      "False\n",
      "False\n",
      "False\n"
     ]
    }
   ],
   "source": [
    "print(bool(None))\n",
    "print(bool(()))\n",
    "print(bool([]))\n",
    "print(bool({}))\n"
   ]
  },
  {
   "cell_type": "markdown",
   "metadata": {},
   "source": [
    "## Python Operators\n",
    "\n",
    "In Python the operators are divided in the following groups:\n",
    "\n",
    "1. Arithmetic operators\n",
    "2. Assignment operators\n",
    "3. Comparison operators\n",
    "4. Logical operators\n",
    "5. Identity operators\n",
    "6. Membership operators\n",
    "7. Bitwise operators"
   ]
  },
  {
   "cell_type": "code",
   "execution_count": 142,
   "metadata": {},
   "outputs": [
    {
     "name": "stdout",
     "output_type": "stream",
     "text": [
      "225\n",
      "7\n"
     ]
    }
   ],
   "source": [
    "## Python Arithmetic Operators\n",
    "x = 15 \n",
    "y = 2\n",
    "\n",
    "res_add = x + y\n",
    "res_sub = x - y\n",
    "res_mul = x * y\n",
    "res_div = x / y\n",
    "res_mod = x % y\n",
    "res_floor = x // y # Floor division\n",
    "res_exp = x ** y\n",
    "print(res_exp)\n",
    "print(res_floor)"
   ]
  },
  {
   "cell_type": "code",
   "execution_count": null,
   "metadata": {},
   "outputs": [],
   "source": []
  },
  {
   "cell_type": "code",
   "execution_count": null,
   "metadata": {},
   "outputs": [],
   "source": []
  },
  {
   "cell_type": "code",
   "execution_count": 143,
   "metadata": {},
   "outputs": [
    {
     "name": "stdout",
     "output_type": "stream",
     "text": [
      "x:  5\n",
      "x + 3:  8\n",
      "x - 3:  5\n",
      "x * 3:  15\n",
      "x / 3:  5.0\n",
      "x ** 3:  125.0\n",
      "x // 3:  41.0\n",
      "x % 3:  2.0\n"
     ]
    }
   ],
   "source": [
    "# Python Assignment Operators\n",
    "x = 5 # x = 5\n",
    "print(\"x: \", x)\n",
    "\n",
    "x += 3 # x = x + 3\n",
    "print(\"x + 3: \", x)\n",
    "x -= 3 # x = x - 3\n",
    "print(\"x - 3: \", x)\n",
    "x *= 3 # x = x * 3\n",
    "print(\"x * 3: \", x)\n",
    "x /= 3 # x = x / 3\n",
    "print(\"x / 3: \", x)\n",
    "x **= 3 # x = x ** 3\n",
    "print(\"x ** 3: \", x)\n",
    "x //= 3 # x = x // 3\n",
    "print(\"x // 3: \", x)\n",
    "x %= 3 # x = x % 3\n",
    "print(\"x % 3: \", x)"
   ]
  },
  {
   "cell_type": "code",
   "execution_count": null,
   "metadata": {},
   "outputs": [],
   "source": []
  },
  {
   "cell_type": "code",
   "execution_count": null,
   "metadata": {},
   "outputs": [],
   "source": []
  },
  {
   "cell_type": "code",
   "execution_count": 144,
   "metadata": {},
   "outputs": [
    {
     "name": "stdout",
     "output_type": "stream",
     "text": [
      "\n",
      "x:  6\n",
      "x & 3:  2\n",
      "\n",
      "x:  7\n",
      "x | 3:  7\n",
      "\n",
      "x:  6\n",
      "x ^ 3:  5\n",
      "\n",
      "x:  6\n",
      "x >> 3:  1\n",
      "\n",
      "x:  6\n",
      "x << 3:  48\n"
     ]
    }
   ],
   "source": [
    "# Python Bitwise assignment\n",
    "x = 6\n",
    "print(\"\\nx: \", x)\n",
    "\n",
    "x &= 3                      # x = x & 3 \n",
    "print(\"x & 3: \", x)\n",
    "x |= 3                      # x = x | 3\n",
    "\n",
    "x = 6\n",
    "x |= 3\n",
    "print(\"\\nx: \", x)\n",
    "print(\"x | 3: \", x)\n",
    "\n",
    "x = 6\n",
    "print(\"\\nx: \", x)\n",
    "x ^= 3                      # x = x ^ 3\n",
    "print(\"x ^ 3: \", x)         # XOR\n",
    "\n",
    "x = 6\n",
    "print(\"\\nx: \", x)\n",
    "x >>= 2                      # x = x >> 3\n",
    "print(\"x >> 3: \", x)\n",
    "\n",
    "x = 6\n",
    "print(\"\\nx: \", x)\n",
    "x <<= 3                     # x = x << 3\n",
    "print(\"x << 3: \", x)\n",
    "\n",
    "#x=6 => 00000110\n",
    "#3   => 00000011\n",
    "#x&3 => 00000010 = 2"
   ]
  },
  {
   "cell_type": "code",
   "execution_count": null,
   "metadata": {},
   "outputs": [],
   "source": []
  },
  {
   "cell_type": "code",
   "execution_count": null,
   "metadata": {},
   "outputs": [],
   "source": []
  },
  {
   "cell_type": "code",
   "execution_count": 145,
   "metadata": {},
   "outputs": [
    {
     "name": "stdout",
     "output_type": "stream",
     "text": [
      "5 == 7 False\n",
      "5 != 7 True\n",
      "5 > 7 False\n",
      "5 < 7 True\n",
      "5 >= 7 False\n",
      "5 <= 7 True\n"
     ]
    }
   ],
   "source": [
    "# Python Comparison Operators\n",
    "a = 5\n",
    "b = 7\n",
    "print(a,\"==\",b, a==b)\n",
    "print(a,\"!=\",b, a!=b)\n",
    "print(a,\">\",b, a>b)\n",
    "print(a,\"<\",b, a<b)\n",
    "print(a,\">=\",b, a>=b)\n",
    "print(a,\"<=\",b, a<=b)\n"
   ]
  },
  {
   "cell_type": "code",
   "execution_count": 146,
   "metadata": {},
   "outputs": [
    {
     "name": "stdout",
     "output_type": "stream",
     "text": [
      "True and False = False\n",
      "True or False = True\n",
      "not True = False\n"
     ]
    }
   ],
   "source": [
    "# Python Logical Operators\n",
    "x = True\n",
    "y = False\n",
    "print(x, \"and\", y, \"=\", x and y)\n",
    "print(x, \"or\", y, \"=\", x or y)\n",
    "print(\"not\", x, \"=\", not x) \n",
    "\n",
    "# print(*objects)  \n",
    "# Method with *objects means multiple arguments, \n",
    "# Here print takes multiple arguments, each argument separated by a space. "
   ]
  },
  {
   "cell_type": "code",
   "execution_count": 150,
   "metadata": {},
   "outputs": [
    {
     "name": "stdout",
     "output_type": "stream",
     "text": [
      "True\n",
      "False\n",
      "140164791126768\n",
      "140164791126768\n"
     ]
    }
   ],
   "source": [
    "# Python Identity Operators (Interning)\n",
    "x = \"Python\"\n",
    "y = \"Python\"\n",
    "\n",
    "# Both variable x and y point to same value in Heap\n",
    "print(x is y)          # Returns True if both variables are the same\n",
    "print(x is not y)      # Returns True if both variables are not the same\n",
    "\n",
    "print(id(x))\n",
    "print(id(y))"
   ]
  },
  {
   "cell_type": "code",
   "execution_count": 151,
   "metadata": {},
   "outputs": [
    {
     "name": "stdout",
     "output_type": "stream",
     "text": [
      "True\n",
      "False\n"
     ]
    }
   ],
   "source": [
    "# Python Membership Operators\n",
    "\n",
    "x = [[5,10,15],20]\n",
    "y = [5,10,15]\n",
    "print(y in x)          # Returns True if a sequence with the specified value is present in the object\n",
    "print(y not in x)      # Returns True if a sequence with the specified value is not present in the object\n"
   ]
  },
  {
   "cell_type": "code",
   "execution_count": null,
   "metadata": {},
   "outputs": [],
   "source": []
  },
  {
   "cell_type": "code",
   "execution_count": 110,
   "metadata": {},
   "outputs": [
    {
     "name": "stdout",
     "output_type": "stream",
     "text": [
      "\n",
      "x:  6\n",
      "x & 3:  2\n",
      "\n",
      "x:  6\n",
      "x | 3:  7\n",
      "\n",
      "x:  6\n",
      "x ^ 3:  5\n",
      "\n",
      "x:  6\n",
      "x >> 3:  0\n",
      "\n",
      "x:  6\n",
      "x << 3:  48\n",
      "\n",
      "x:  6\n",
      "~x:  -7\n"
     ]
    }
   ],
   "source": [
    "# Python Bitwise Operators\n",
    "x = 6\n",
    "print(\"\\nx: \", x)\n",
    "x &= 3                      # x = x & 3 \n",
    "print(\"x & 3: \", x)\n",
    "\n",
    "x = 6\n",
    "print(\"\\nx: \", x)\n",
    "x |= 3                      # x = x | 3\n",
    "print(\"x | 3: \", x)\n",
    "\n",
    "x = 6\n",
    "print(\"\\nx: \", x)\n",
    "x ^= 3                      # x = x ^ 3\n",
    "print(\"x ^ 3: \", x)         # XOR\n",
    "\n",
    "x = 6\n",
    "print(\"\\nx: \", x)\n",
    "x >>= 3                      # x = x >> 3, Signed right shift\n",
    "print(\"x >> 3: \", x)\n",
    "\n",
    "x = 6\n",
    "print(\"\\nx: \", x)\n",
    "x <<= 3                     # x = x << 3, Zero fill left shift\n",
    "print(\"x << 3: \", x)\n",
    "\n",
    "x = 6\n",
    "print(\"\\nx: \", x)\n",
    "x = ~x                     # x = ~x => NOT => Inverts all the bits (Returns one’s complement of the number)\n",
    "print(\"~x: \", x)\n",
    "\n",
    "#x=6 => 00000110\n",
    "#~x  => -(00000110 + 1) => -(00000111) => -7"
   ]
  },
  {
   "cell_type": "markdown",
   "metadata": {},
   "source": [
    "# Python Lists\n",
    "\n",
    "Four collection data types in the Python:\n",
    "\n",
    "1. List: is a collection which is ordered and changeable. Allows duplicate members\n",
    "2. Tuple: is a collection which is ordered and unchangeable. Allows duplicate members\n",
    "3. Set: is a collection which is unordered and unindexed. No duplicate members\n",
    "4. Dictionary: is a collection which is unordered, changeable and indexed. No duplicate members (Keys are unique not values)\n",
    "\n",
    "When choosing a collection type, it is useful to understand the properties of that type. "
   ]
  },
  {
   "cell_type": "code",
   "execution_count": 112,
   "metadata": {},
   "outputs": [
    {
     "name": "stdout",
     "output_type": "stream",
     "text": [
      "['apple', 'banana', 'cherry']\n"
     ]
    }
   ],
   "source": [
    "# List\n",
    "my_list = [\"apple\", \"banana\", \"cherry\"]\n",
    "print(my_list)"
   ]
  },
  {
   "cell_type": "code",
   "execution_count": 113,
   "metadata": {},
   "outputs": [
    {
     "name": "stdout",
     "output_type": "stream",
     "text": [
      "('apple', 'banana', 'cherry')\n"
     ]
    }
   ],
   "source": [
    "# Tuple\n",
    "my_list = (\"apple\", \"banana\", \"cherry\")\n",
    "print(my_list)"
   ]
  },
  {
   "cell_type": "markdown",
   "metadata": {},
   "source": [
    "## Python Tuples\n",
    "A tuple is a collection which is ordered and unchangeable or immutable."
   ]
  },
  {
   "cell_type": "code",
   "execution_count": 114,
   "metadata": {},
   "outputs": [
    {
     "name": "stdout",
     "output_type": "stream",
     "text": [
      "('guava', 'orange', 12)\n"
     ]
    }
   ],
   "source": [
    "mytuple = (\"apple\", \"banana\", \"cherry\", \"guava\", \"orange\", 12, 5.0,\"Ali\")\n",
    "#print(mytuple[0])\n",
    "#print(mytuple[-3])\n",
    "print(mytuple[3:6])\n",
    "\n"
   ]
  },
  {
   "cell_type": "code",
   "execution_count": 120,
   "metadata": {},
   "outputs": [
    {
     "name": "stdout",
     "output_type": "stream",
     "text": [
      "apple\n",
      "banana\n",
      "cherry\n",
      "guava\n",
      "orange\n",
      "12\n",
      "5.0\n",
      "Ali\n"
     ]
    }
   ],
   "source": [
    "for x in mytuple:\n",
    "    print(x)"
   ]
  },
  {
   "cell_type": "code",
   "execution_count": 121,
   "metadata": {},
   "outputs": [
    {
     "name": "stdout",
     "output_type": "stream",
     "text": [
      "apple\n",
      "banana\n",
      "cherry\n",
      "guava\n",
      "orange\n",
      "12\n",
      "5.0\n",
      "Ali\n"
     ]
    }
   ],
   "source": [
    "for x in range(len(mytuple)):\n",
    "    print(mytuple[x])"
   ]
  },
  {
   "cell_type": "code",
   "execution_count": 122,
   "metadata": {},
   "outputs": [],
   "source": [
    "# Deleting tuple \n",
    "mytuple = (\"apple\", \"banana\", \"cherry\")\n",
    "del mytuple\n",
    "#print(mytuple)\n"
   ]
  },
  {
   "cell_type": "code",
   "execution_count": 123,
   "metadata": {},
   "outputs": [
    {
     "name": "stdout",
     "output_type": "stream",
     "text": [
      "('apple', 'banana', 'orange', 'guava', 'orange', 'lemon')\n"
     ]
    }
   ],
   "source": [
    "# Combining two tuples\n",
    "mytuple1 = (\"apple\", \"banana\", \"orange\")\n",
    "mytuple2 = (\"guava\", \"orange\", \"lemon\")\n",
    "mytuple3 = mytuple1 + mytuple2 \n",
    "\n",
    "print(mytuple3)"
   ]
  },
  {
   "cell_type": "code",
   "execution_count": 125,
   "metadata": {},
   "outputs": [
    {
     "name": "stdout",
     "output_type": "stream",
     "text": [
      "3\n",
      "2\n"
     ]
    }
   ],
   "source": [
    "# Search specific value and returns the position of first occurrence in a tuple\n",
    "index_num = mytuple3.index('guava')\n",
    "print(index_num)\n",
    "\n",
    "# Count all items with specific value in a tuple \n",
    "count_items = mytuple3.count('orange')\n",
    "print(count_items)\n"
   ]
  },
  {
   "cell_type": "markdown",
   "metadata": {},
   "source": [
    "## Python Sets\n",
    "A set is a collection which is unordered and unindexed.\n",
    "\n",
    "As it is unordered, therefore items cannot be accessed by referring to an index or a key.\n",
    "\n"
   ]
  },
  {
   "cell_type": "code",
   "execution_count": 126,
   "metadata": {},
   "outputs": [
    {
     "name": "stdout",
     "output_type": "stream",
     "text": [
      "{'cherry', 'banana', 'apple'}\n"
     ]
    }
   ],
   "source": [
    "myset = {\"apple\", \"banana\", \"cherry\"}\n",
    "print(myset)"
   ]
  },
  {
   "cell_type": "code",
   "execution_count": null,
   "metadata": {},
   "outputs": [],
   "source": []
  },
  {
   "cell_type": "code",
   "execution_count": 129,
   "metadata": {},
   "outputs": [
    {
     "name": "stdout",
     "output_type": "stream",
     "text": [
      "cherry\n",
      "banana\n",
      "apple\n"
     ]
    }
   ],
   "source": [
    "\n",
    "for item in myset:\n",
    "    print(item)\n"
   ]
  },
  {
   "cell_type": "code",
   "execution_count": 130,
   "metadata": {},
   "outputs": [
    {
     "name": "stdout",
     "output_type": "stream",
     "text": [
      "apple\n"
     ]
    }
   ],
   "source": [
    "if 'cherry' in myset:\n",
    "    print(item)"
   ]
  },
  {
   "cell_type": "code",
   "execution_count": 133,
   "metadata": {},
   "outputs": [
    {
     "name": "stdout",
     "output_type": "stream",
     "text": [
      "{'cherry', 'banana', 'apple', 'lemon'}\n"
     ]
    }
   ],
   "source": [
    "myset.add('lemon')\n",
    "print(myset)"
   ]
  },
  {
   "cell_type": "code",
   "execution_count": 134,
   "metadata": {},
   "outputs": [
    {
     "name": "stdout",
     "output_type": "stream",
     "text": [
      "{'cherry', 'banana', 'apple'}\n"
     ]
    }
   ],
   "source": [
    "myset.remove('lemon') # Get error if lemon not in set\n",
    "print(myset)\n",
    "\n",
    "myset.discard(\"lemon\") # No error although if lemon not in set\n"
   ]
  },
  {
   "cell_type": "code",
   "execution_count": 136,
   "metadata": {},
   "outputs": [
    {
     "name": "stdout",
     "output_type": "stream",
     "text": [
      "{'apple', 'guava', 'lemon', 'cherry', 'banana'}\n"
     ]
    }
   ],
   "source": [
    "#myset.update({'lemon','guava'}) # set  working\n",
    "#myset.update(['lemon','guava']) # list also working\n",
    "myset.update(('lemon','guava')) # tuple also working\n",
    "print(myset)"
   ]
  },
  {
   "cell_type": "markdown",
   "metadata": {},
   "source": [
    "## Python Dictionaries\n",
    "A dictionary is a key value pair collection which is unordered, mutable and indexed. \n"
   ]
  },
  {
   "cell_type": "code",
   "execution_count": 137,
   "metadata": {},
   "outputs": [
    {
     "name": "stdout",
     "output_type": "stream",
     "text": [
      "{'name': 'Ali', 'age': 30, 'address': 'House#400, Street#12'}\n"
     ]
    }
   ],
   "source": [
    "mydict = {\n",
    "  \"name\": \"Ali\",\n",
    "  \"age\": 30,\n",
    "  \"address\": \"House#400, Street#12\"\n",
    "}\n",
    "print(mydict)"
   ]
  },
  {
   "cell_type": "code",
   "execution_count": 139,
   "metadata": {},
   "outputs": [
    {
     "name": "stdout",
     "output_type": "stream",
     "text": [
      "Ali\n"
     ]
    }
   ],
   "source": [
    "name = mydict['name']\n",
    "print(name)"
   ]
  },
  {
   "cell_type": "code",
   "execution_count": 141,
   "metadata": {},
   "outputs": [
    {
     "name": "stdout",
     "output_type": "stream",
     "text": [
      "Ali\n"
     ]
    }
   ],
   "source": [
    "# You can also used get() method of dictionaly to access value\n",
    "name = mydict.get('name')\n",
    "print(name)\n",
    "\n"
   ]
  },
  {
   "cell_type": "markdown",
   "metadata": {},
   "source": [
    "## Python Conditions (if), (if and else), (if, elif and else )\n",
    "To define scope of body of the condistion, Python uses indentation (whitespace, preferably 4 white spaces) "
   ]
  },
  {
   "cell_type": "code",
   "execution_count": 142,
   "metadata": {},
   "outputs": [
    {
     "name": "stdout",
     "output_type": "stream",
     "text": [
      "x is less than y\n"
     ]
    }
   ],
   "source": [
    "# If statement\n",
    "\n",
    "x = 100\n",
    "y = 300\n",
    "\n",
    "if x < y:\n",
    "    print(\"x is less than y\")"
   ]
  },
  {
   "cell_type": "code",
   "execution_count": 144,
   "metadata": {},
   "outputs": [
    {
     "name": "stdout",
     "output_type": "stream",
     "text": [
      "x is not less than y\n"
     ]
    }
   ],
   "source": [
    "# If else statement\n",
    "\n",
    "x = 400\n",
    "y = 300\n",
    "\n",
    "if x < y:\n",
    "    print(\"x is less than y\")\n",
    "    \n",
    "else:\n",
    "    print(\"x is not less than y\")\n",
    "    \n",
    "    "
   ]
  },
  {
   "cell_type": "code",
   "execution_count": 145,
   "metadata": {},
   "outputs": [
    {
     "name": "stdout",
     "output_type": "stream",
     "text": [
      "Both are equal\n"
     ]
    }
   ],
   "source": [
    "# If elif else statement\n",
    "x = 300\n",
    "y = 300\n",
    "\n",
    "if x < y:\n",
    "    print(\"x is less than y\")\n",
    "    \n",
    "elif x > y:\n",
    "    print(\"x is greater than y\")\n",
    "    \n",
    "else:\n",
    "    print(\"Both are equal\")\n",
    "    \n",
    "\n"
   ]
  },
  {
   "cell_type": "code",
   "execution_count": 146,
   "metadata": {},
   "outputs": [
    {
     "name": "stdout",
     "output_type": "stream",
     "text": [
      "x is less than y\n"
     ]
    }
   ],
   "source": [
    "x = 100\n",
    "y = 120\n",
    "if x < y: print(\"x is less than y\")"
   ]
  },
  {
   "cell_type": "code",
   "execution_count": 148,
   "metadata": {},
   "outputs": [
    {
     "name": "stdout",
     "output_type": "stream",
     "text": [
      "banana\n"
     ]
    }
   ],
   "source": [
    "x = 5\n",
    "y = 7\n",
    "my_val = \"apple\" if x > y else \"banana\" if x < y else \"cherry\"\n",
    "print(my_val)\n"
   ]
  },
  {
   "cell_type": "code",
   "execution_count": 149,
   "metadata": {},
   "outputs": [
    {
     "name": "stdout",
     "output_type": "stream",
     "text": [
      "x not greater\n",
      "y greater\n"
     ]
    }
   ],
   "source": [
    "# Ternary Operators (Short Hand) for If, elif and Else\n",
    "# Java and C/C++ Syntax:            max = (n1 > n2) ? n1 : n2; \n",
    "\n",
    "x = 50\n",
    "y = 100\n",
    "\n",
    "# If - Else\n",
    "print(\"x greater\") if x > y else print(\"x not greater\")\n",
    "\n",
    "# If - Elif- Else\n",
    "print(\"x greater\") if x > y else print(\"y greater\") if x < y else print(\"Both are equal\")\n"
   ]
  },
  {
   "cell_type": "code",
   "execution_count": 150,
   "metadata": {},
   "outputs": [
    {
     "name": "stdout",
     "output_type": "stream",
     "text": [
      "Both are equal\n"
     ]
    }
   ],
   "source": [
    "# Assign ternary result to a variable\n",
    "x = 100\n",
    "y = 100\n",
    "\n",
    "# If - Elif- Else\n",
    "my_val = \"x greater\" if x > y else \"y greater\" if x < y else \"Both are equal\"\n",
    "print(my_val)"
   ]
  },
  {
   "cell_type": "code",
   "execution_count": 151,
   "metadata": {},
   "outputs": [
    {
     "name": "stdout",
     "output_type": "stream",
     "text": [
      "Both are equal\n"
     ]
    }
   ],
   "source": [
    "# Using logical operators in conditions\n",
    "x = 100\n",
    "y = 100\n",
    "\n",
    "if not (x < y) and not (x > y):\n",
    "    print(\"Both are equal\")"
   ]
  },
  {
   "cell_type": "code",
   "execution_count": 152,
   "metadata": {},
   "outputs": [
    {
     "name": "stdout",
     "output_type": "stream",
     "text": [
      "Both are equal\n"
     ]
    }
   ],
   "source": [
    "if not (x < y or x > y):\n",
    "    print(\"Both are equal\")"
   ]
  },
  {
   "cell_type": "markdown",
   "metadata": {},
   "source": [
    "## Python Loops\n",
    "To define scope of body of the condistion, Python uses indentation (whitespace, preferably 4 white spaces) \n",
    "\n",
    "Python has two primitive loops (for and while)\n",
    "\n"
   ]
  },
  {
   "cell_type": "markdown",
   "metadata": {},
   "source": [
    "### For Loop"
   ]
  },
  {
   "cell_type": "code",
   "execution_count": 153,
   "metadata": {},
   "outputs": [
    {
     "name": "stdout",
     "output_type": "stream",
     "text": [
      "apple\n",
      "banana\n",
      "cherry\n"
     ]
    }
   ],
   "source": [
    "fruits = [\"apple\", \"banana\", \"cherry\"]\n",
    "for fruit in fruits:\n",
    "    print(fruit)"
   ]
  },
  {
   "cell_type": "code",
   "execution_count": 155,
   "metadata": {},
   "outputs": [
    {
     "name": "stdout",
     "output_type": "stream",
     "text": [
      "P\n",
      "a\n",
      "k\n",
      "i\n",
      "s\n",
      "t\n",
      "a\n",
      "n\n"
     ]
    }
   ],
   "source": [
    "# Loop through string value\n",
    "\n",
    "for x in  \"Pakistan\":\n",
    "    print(x)"
   ]
  },
  {
   "cell_type": "code",
   "execution_count": 156,
   "metadata": {},
   "outputs": [
    {
     "name": "stdout",
     "output_type": "stream",
     "text": [
      "0\n",
      "1\n",
      "2\n",
      "3\n",
      "4\n"
     ]
    }
   ],
   "source": [
    "# For loop with range() fuction\n",
    "\n",
    "for i in range(5):  # in range(5), the loop will stop just before 5, so 5 is inclusive\n",
    "    print(i)\n",
    "    "
   ]
  },
  {
   "cell_type": "code",
   "execution_count": 164,
   "metadata": {},
   "outputs": [
    {
     "name": "stdout",
     "output_type": "stream",
     "text": [
      "0\n",
      "3\n",
      "6\n",
      "9\n"
     ]
    }
   ],
   "source": [
    "for i in range(0,11,3):\n",
    "    print(i)\n"
   ]
  },
  {
   "cell_type": "code",
   "execution_count": 166,
   "metadata": {},
   "outputs": [
    {
     "name": "stdout",
     "output_type": "stream",
     "text": [
      "5050\n"
     ]
    }
   ],
   "source": [
    "# Sum integer values within range 100\n",
    "sum = 0\n",
    "for i in range(101): \n",
    "    sum += i\n",
    "print(sum)"
   ]
  },
  {
   "cell_type": "code",
   "execution_count": 167,
   "metadata": {},
   "outputs": [
    {
     "name": "stdout",
     "output_type": "stream",
     "text": [
      "1275\n"
     ]
    }
   ],
   "source": [
    "# Sum integer values within range less than 50 (using break command)\n",
    "sum = 0\n",
    "for i in range(101): \n",
    "    if i == 51:\n",
    "        break\n",
    "    sum += i\n",
    "    \n",
    "print(sum)"
   ]
  },
  {
   "cell_type": "code",
   "execution_count": null,
   "metadata": {},
   "outputs": [],
   "source": []
  },
  {
   "cell_type": "code",
   "execution_count": null,
   "metadata": {},
   "outputs": [],
   "source": []
  },
  {
   "cell_type": "code",
   "execution_count": 175,
   "metadata": {},
   "outputs": [
    {
     "name": "stdout",
     "output_type": "stream",
     "text": [
      "2550\n"
     ]
    }
   ],
   "source": [
    "# Sum even values within range (using continue command)\n",
    "sum = 0\n",
    "for i in range(101): \n",
    "    if i%2 != 0:\n",
    "        continue\n",
    "    sum += i\n",
    "    \n",
    "print(sum)\n"
   ]
  },
  {
   "cell_type": "code",
   "execution_count": 178,
   "metadata": {},
   "outputs": [
    {
     "name": "stdout",
     "output_type": "stream",
     "text": [
      "0,1,2,3,4,5,\n",
      "0,1,2,3,4,5,\n",
      "0,1,2,3,4,5,\n",
      "0,1,2,3,4,5,\n",
      "0,1,2,3,4,5,\n"
     ]
    }
   ],
   "source": [
    "# Nested for loop\n",
    "for i in range(5):\n",
    "    row = \"\"\n",
    "    for j in range(6):\n",
    "        row = row + str(j) + \",\"\n",
    "    print(row)"
   ]
  },
  {
   "cell_type": "markdown",
   "metadata": {},
   "source": [
    "### While Loop\n"
   ]
  },
  {
   "cell_type": "code",
   "execution_count": 179,
   "metadata": {},
   "outputs": [
    {
     "name": "stdout",
     "output_type": "stream",
     "text": [
      "5050\n"
     ]
    }
   ],
   "source": [
    "# Sum integer values within range\n",
    "sum = 0\n",
    "i = 1\n",
    "while i <= 100:\n",
    "    sum += i\n",
    "    i += 1\n",
    "print(sum)"
   ]
  },
  {
   "cell_type": "code",
   "execution_count": 180,
   "metadata": {},
   "outputs": [
    {
     "name": "stdout",
     "output_type": "stream",
     "text": [
      "1275\n"
     ]
    }
   ],
   "source": [
    "# Sum integer values within range less than 50 (using break command)\n",
    "sum = 0\n",
    "i = 1\n",
    "while i <= 100:\n",
    "    sum += i\n",
    "    i += 1\n",
    "    if i == 51:\n",
    "        break\n",
    "    \n",
    "print(sum)"
   ]
  },
  {
   "cell_type": "code",
   "execution_count": 182,
   "metadata": {},
   "outputs": [
    {
     "name": "stdout",
     "output_type": "stream",
     "text": [
      "2550\n"
     ]
    }
   ],
   "source": [
    "# Sum even values within range (using continue command)\n",
    "sum = 0\n",
    "i = 1\n",
    "while i <= 100:\n",
    "\n",
    "    if i%2 != 0:\n",
    "        i += 1\n",
    "        continue\n",
    "        \n",
    "    sum += i\n",
    "    i += 1\n",
    "    \n",
    "print(sum)"
   ]
  },
  {
   "cell_type": "code",
   "execution_count": 183,
   "metadata": {},
   "outputs": [
    {
     "name": "stdout",
     "output_type": "stream",
     "text": [
      "0,1,2,3,4,5,\n",
      "0,1,2,3,4,5,\n",
      "0,1,2,3,4,5,\n",
      "0,1,2,3,4,5,\n",
      "0,1,2,3,4,5,\n"
     ]
    }
   ],
   "source": [
    "# Nested while loop\n",
    "i = 0\n",
    "while i < 5:\n",
    "    row = \"\"\n",
    "\n",
    "    j = 0\n",
    "    while j < 6:\n",
    "        row = row + str(j) + \",\"\n",
    "        j += 1\n",
    "    print(row)\n",
    "    i += 1"
   ]
  },
  {
   "cell_type": "code",
   "execution_count": 185,
   "metadata": {},
   "outputs": [
    {
     "name": "stdout",
     "output_type": "stream",
     "text": [
      "Sum =  0\n",
      "Enter New number to add\n",
      "2\n",
      "Sum =  2\n",
      "Enter New number to add\n",
      "q\n"
     ]
    }
   ],
   "source": [
    "sum = 0\n",
    "input_value = 0\n",
    "while input_value != 'q':\n",
    "    sum += int(input_value)\n",
    "    print(\"Sum = \", sum)\n",
    "    print(\"Enter New number to add\")\n",
    "    input_value = input()\n",
    "    "
   ]
  },
  {
   "cell_type": "markdown",
   "metadata": {},
   "source": [
    "## Python Functions\n",
    "A function is a block of code which only runs when it is called.\n",
    "\n",
    "You pass parameters to a function and function return data as a result.\n",
    "\n",
    "Function in Python always return something\n",
    "\n",
    "To return value use keyword 'return' "
   ]
  },
  {
   "cell_type": "code",
   "execution_count": 186,
   "metadata": {},
   "outputs": [],
   "source": [
    "def my_function():\n",
    "    print(\"This is my firt function in Python\")\n",
    "    #return 66"
   ]
  },
  {
   "cell_type": "code",
   "execution_count": 187,
   "metadata": {},
   "outputs": [
    {
     "name": "stdout",
     "output_type": "stream",
     "text": [
      "This is my firt function in Python\n"
     ]
    }
   ],
   "source": [
    "ret_value = my_function()"
   ]
  },
  {
   "cell_type": "code",
   "execution_count": 188,
   "metadata": {},
   "outputs": [
    {
     "name": "stdout",
     "output_type": "stream",
     "text": [
      "None\n"
     ]
    }
   ],
   "source": [
    "print(ret_value)"
   ]
  },
  {
   "cell_type": "code",
   "execution_count": 195,
   "metadata": {},
   "outputs": [],
   "source": [
    "# Parametrized method and Number of Arguments\n",
    "\n",
    "# Single argument\n",
    "def my_function1(name):\n",
    "    print(\"Hello,\", name)\n",
    "\n",
    "# Two arguments\n",
    "def my_function2(message, name):\n",
    "    print(message , name)"
   ]
  },
  {
   "cell_type": "code",
   "execution_count": 197,
   "metadata": {},
   "outputs": [
    {
     "name": "stdout",
     "output_type": "stream",
     "text": [
      "Hello, World\n",
      "Hello, World\n"
     ]
    }
   ],
   "source": [
    "my_function1(\"World\")\n",
    "my_function2(\"Hello,\", \"World\")"
   ]
  },
  {
   "cell_type": "code",
   "execution_count": 216,
   "metadata": {},
   "outputs": [
    {
     "name": "stdout",
     "output_type": "stream",
     "text": [
      "{'name': 'Ali', 'age': 40, 'address': 'Street#123'}\n"
     ]
    }
   ],
   "source": [
    "# Arbitrary Arguments, *args\n",
    "# Add a * for arbitrary arguments before the parameter name in the function definition .\n",
    "# This way the function will receive arguments as tuples\n",
    "\n",
    "def my_function(*args):\n",
    "    for arg in args:\n",
    "        print(arg)\n",
    "\n",
    "my_function(\"Ali\", 40, \"Street#123\")\n"
   ]
  },
  {
   "cell_type": "code",
   "execution_count": null,
   "metadata": {},
   "outputs": [],
   "source": []
  },
  {
   "cell_type": "code",
   "execution_count": 35,
   "metadata": {},
   "outputs": [
    {
     "name": "stdout",
     "output_type": "stream",
     "text": [
      "Ali 40 Street#134\n"
     ]
    }
   ],
   "source": [
    "# Keyword Arguments, You can also pass argument with its name\n",
    "# Here order of the arguments passed is not necessary.\n",
    "\n",
    "def my_function(name, age, address):\n",
    "    print(name, age, address)\n",
    "    \n",
    "\n",
    "my_function(name = \"Ali\", address = \"Street#134\", age = 40)\n"
   ]
  },
  {
   "cell_type": "code",
   "execution_count": 36,
   "metadata": {},
   "outputs": [
    {
     "name": "stdout",
     "output_type": "stream",
     "text": [
      "Ali\n",
      "40\n",
      "Street#123\n"
     ]
    }
   ],
   "source": [
    "# Arbitrary Keyword Arguments, **kwargs\n",
    "\n",
    "def my_function(**args):\n",
    "    print(args['name'])\n",
    "    print(args['age'])\n",
    "    print(args['address'])\n",
    "    \n",
    "    #for arg in args:\n",
    "    #    print(arg)\n",
    "\n",
    "my_function(name=\"Ali\", age=40, address=\"Street#123\")\n"
   ]
  },
  {
   "cell_type": "code",
   "execution_count": 25,
   "metadata": {},
   "outputs": [
    {
     "name": "stdout",
     "output_type": "stream",
     "text": [
      "No Name\n",
      "40\n",
      "No Address\n"
     ]
    }
   ],
   "source": [
    "# Default Parameter Value\n",
    "# If a function with default arguments is called without arguments, it uses the default values\n",
    "# Default argument should not be followed by non-default arguments\n",
    "\n",
    "def my_function(age, name='No Name', address=\"No Address\"):\n",
    "    print(name)\n",
    "    print(age)\n",
    "    print(address)\n",
    "    \n",
    "my_function(age=40)\n"
   ]
  },
  {
   "cell_type": "code",
   "execution_count": 26,
   "metadata": {},
   "outputs": [
    {
     "name": "stdout",
     "output_type": "stream",
     "text": [
      "['Ali', 30, 'Adress']\n"
     ]
    }
   ],
   "source": [
    "# Passing a List as an Argument\n",
    "def my_function(values):\n",
    "    print(values)\n",
    "    \n",
    "my_function(['Ali',30,'Adress'])\n",
    "\n"
   ]
  },
  {
   "cell_type": "code",
   "execution_count": 27,
   "metadata": {},
   "outputs": [],
   "source": [
    "# Function definitions cannot be empty, but if you want to have a function definition without content, \n",
    "# Use the pass statement"
   ]
  },
  {
   "cell_type": "code",
   "execution_count": 29,
   "metadata": {},
   "outputs": [],
   "source": [
    "# Passing a List as an Argument\n",
    "def my_function():\n",
    "    pass\n",
    "    \n",
    "my_function()\n"
   ]
  },
  {
   "cell_type": "markdown",
   "metadata": {},
   "source": [
    "## Recursion\n",
    "Recursion is when a statement in a function calls itself repeatedly\n",
    "\n",
    "Recursion is a common programming concept. "
   ]
  },
  {
   "cell_type": "code",
   "execution_count": 41,
   "metadata": {},
   "outputs": [
    {
     "name": "stdout",
     "output_type": "stream",
     "text": [
      "\n",
      "\n",
      "Fibonacci number at position  8  is 13\n"
     ]
    }
   ],
   "source": [
    "#Fibonacci Series\n",
    "# 0, 1, 1, 2, 3, 5, 8, 13, 21\n",
    "def fib(n):\n",
    "    if(n <= 1):\n",
    "        return 0\n",
    "    \n",
    "    elif(n == 2):\n",
    "        return 1\n",
    "    \n",
    "    else:\n",
    "        return fib(n-2) + fib(n-1)\n",
    "    \n",
    "n = 8\n",
    "print(\"\\n\\nFibonacci number at position \", n, \" is\", fib(n))"
   ]
  },
  {
   "cell_type": "code",
   "execution_count": 42,
   "metadata": {},
   "outputs": [
    {
     "name": "stdout",
     "output_type": "stream",
     "text": [
      "120\n"
     ]
    }
   ],
   "source": [
    "fact = 1\n",
    "for i in range(4):\n",
    "    fact += fact*(4-i);\n",
    "\n",
    "print(fact)"
   ]
  },
  {
   "cell_type": "code",
   "execution_count": 43,
   "metadata": {},
   "outputs": [
    {
     "data": {
      "text/plain": [
       "120"
      ]
     },
     "execution_count": 43,
     "metadata": {},
     "output_type": "execute_result"
    }
   ],
   "source": [
    "def fact(n):\n",
    "    if n == 1:\n",
    "        return 1\n",
    "    else:\n",
    "        return n*fact(n-1)\n",
    "    \n",
    "fact(5)"
   ]
  },
  {
   "cell_type": "code",
   "execution_count": 44,
   "metadata": {},
   "outputs": [
    {
     "name": "stdout",
     "output_type": "stream",
     "text": [
      "\n",
      "Sum:  5050\n"
     ]
    }
   ],
   "source": [
    "#Sum integer nubmer to specific range using recursion\n",
    "def sum(n):\n",
    "    if(n <= 1):\n",
    "        return 1    \n",
    "    else:\n",
    "        return n + sum(n-1)\n",
    "    \n",
    "print(\"\\nSum: \", sum(100))"
   ]
  },
  {
   "cell_type": "markdown",
   "metadata": {},
   "source": [
    "## Python Lambda\n",
    "A lambda function is a small anonymous function\n",
    "\n",
    "A lambda function can take any number of arguments, but can only have one expression"
   ]
  },
  {
   "cell_type": "code",
   "execution_count": 47,
   "metadata": {},
   "outputs": [
    {
     "name": "stdout",
     "output_type": "stream",
     "text": [
      "20\n"
     ]
    }
   ],
   "source": [
    "x = lambda a, b : a + b\n",
    "\n",
    "\n",
    "print(x(5,15))"
   ]
  },
  {
   "cell_type": "code",
   "execution_count": 59,
   "metadata": {},
   "outputs": [
    {
     "name": "stdout",
     "output_type": "stream",
     "text": [
      "33\n"
     ]
    }
   ],
   "source": [
    "#Creating dynamically double, thrice etc of a number method\n",
    "\n",
    "def myfunc(n):\n",
    "    return lambda a : n * a\n",
    "\n",
    "lamda_func = myfunc(3) # Here the method is created dynamically, which will double/ thrice of every number\n",
    "# lamda_func = lambda a : 3 * a               # Actually, this happens\n",
    "\n",
    "print(lamda_func(11))\n"
   ]
  },
  {
   "cell_type": "code",
   "execution_count": 56,
   "metadata": {},
   "outputs": [],
   "source": [
    "thrice = myfunc(3)"
   ]
  },
  {
   "cell_type": "code",
   "execution_count": 58,
   "metadata": {},
   "outputs": [
    {
     "data": {
      "text/plain": [
       "36"
      ]
     },
     "execution_count": 58,
     "metadata": {},
     "output_type": "execute_result"
    }
   ],
   "source": [
    "thrice(12)"
   ]
  },
  {
   "cell_type": "code",
   "execution_count": 61,
   "metadata": {},
   "outputs": [
    {
     "name": "stdout",
     "output_type": "stream",
     "text": [
      "81\n"
     ]
    }
   ],
   "source": [
    "#Creating dynamically square, cube etc method\n",
    "\n",
    "def myfunc2(n):\n",
    "    return lambda a : n ** a  # Power function\n",
    "\n",
    "lamda_func2 = myfunc2(3) # Here the method is created dynamically, which will calculate power of every number\n",
    "# lamda_func = lambda a : 3 ** a               # Actually, this happens\n",
    "\n",
    "\n",
    "print(lamda_func2(4))"
   ]
  },
  {
   "cell_type": "markdown",
   "metadata": {},
   "source": [
    "## Python Classes and Objects\n",
    "Python is an object oriented programming language.\n",
    "\n",
    "Almost everything in Python is an object.\n",
    "\n",
    "A Class is a template or blueprint for creating objects.\n"
   ]
  },
  {
   "cell_type": "code",
   "execution_count": 62,
   "metadata": {},
   "outputs": [],
   "source": [
    "class MyClass:\n",
    "    name = 'Sahir'"
   ]
  },
  {
   "cell_type": "code",
   "execution_count": 63,
   "metadata": {},
   "outputs": [
    {
     "data": {
      "text/plain": [
       "'Sahir'"
      ]
     },
     "execution_count": 63,
     "metadata": {},
     "output_type": "execute_result"
    }
   ],
   "source": [
    "my_obj = MyClass()\n",
    "my_obj.name"
   ]
  },
  {
   "cell_type": "code",
   "execution_count": 64,
   "metadata": {},
   "outputs": [
    {
     "data": {
      "text/plain": [
       "'Hayatabad'"
      ]
     },
     "execution_count": 64,
     "metadata": {},
     "output_type": "execute_result"
    }
   ],
   "source": [
    "# __init__() Function\n",
    "class MyClass:\n",
    "    def __init__(self, name, age=0, address='No Address'):\n",
    "        self.name = name\n",
    "        self.age = age\n",
    "        self.address = address\n",
    "    \n",
    "my_obj = MyClass('Khan', 43, 'Hayatabad')\n",
    "my_obj.address"
   ]
  },
  {
   "cell_type": "code",
   "execution_count": 66,
   "metadata": {},
   "outputs": [
    {
     "name": "stdout",
     "output_type": "stream",
     "text": [
      "Khan\n",
      "33\n",
      "Hayatabad\n"
     ]
    }
   ],
   "source": [
    "# Access private attribute with class method\n",
    "\n",
    "# __init__() Function\n",
    "class MyClass:\n",
    "    def __init__(self, name, age=0, address='No Address'):\n",
    "        self.name = name            #Public\n",
    "        self._age = age             #Protected\n",
    "        self.__address = address    #Private\n",
    "    \n",
    "    def get_name(self):\n",
    "        return self.name\n",
    "    \n",
    "    def get_age(self):\n",
    "        return self._age -10\n",
    "\n",
    "    def get_address(self):\n",
    "        return self.__address\n",
    "\n",
    "my_obj = MyClass('Khan', 43, 'Hayatabad')\n",
    "#print(my_obj.name)\n",
    "#print(my_obj._age)\n",
    "#print(my_obj.__address)\n",
    "print(my_obj.get_name())\n",
    "print(my_obj.get_age())\n",
    "print(my_obj.get_address())"
   ]
  },
  {
   "cell_type": "code",
   "execution_count": null,
   "metadata": {},
   "outputs": [],
   "source": []
  },
  {
   "cell_type": "code",
   "execution_count": null,
   "metadata": {},
   "outputs": [],
   "source": []
  },
  {
   "cell_type": "code",
   "execution_count": 61,
   "metadata": {},
   "outputs": [
    {
     "name": "stdout",
     "output_type": "stream",
     "text": [
      "Muhammad Khan with specialization  Information Security\n",
      "Muhammad Khan with specialization  Information Security\n",
      "First Name: Muhammad, Last Name: Khan, Specialization: Information Security\n"
     ]
    }
   ],
   "source": [
    "# Inheritance \n",
    "class Employee:\n",
    "    def __init__(self, fname, lname):\n",
    "        self.firstname = fname\n",
    "        self._lastname = lname\n",
    "\n",
    "    def __str__(self):\n",
    "        return self.firstname + \" \" + self._lastname\n",
    "    \n",
    "    def __repr__(self): \n",
    "        return 'First Name: {}, Last Name: {}'.format(self.firstname,self._lastname) \n",
    "\n",
    "class Teacher(Employee):\n",
    "    def __init__(self, fname, lname, specialization):\n",
    "        #Employee.__init__(self, fname, lname)\n",
    "        super().__init__(fname, lname)\n",
    "        self.specialization = specialization\n",
    "    \n",
    "    def __str__(self):\n",
    "        return super().__str__() + \" with specialization  \" + self.specialization\n",
    "\n",
    "    def __repr__(self): \n",
    "        return super().__repr__() + ', Specialization: {}'.format(self.specialization) \n",
    "\n",
    "\n",
    "teacher_obj = Teacher(\"Muhammad\", 'Khan', \"Information Security\")\n",
    "print(teacher_obj)             # By Default __str__ method is called (Implicitly called)\n",
    "print(teacher_obj.__str__())   # Explicity calling __str__ method\n",
    "print(teacher_obj.__repr__())  # Explicity calling __repr__ method, \n",
    "                               #__repr__ method is implicilty called, when __str__ method is not there"
   ]
  },
  {
   "cell_type": "code",
   "execution_count": null,
   "metadata": {},
   "outputs": [],
   "source": []
  },
  {
   "cell_type": "markdown",
   "metadata": {},
   "source": [
    "## Python File Open\n",
    "File handling is an important part of programing language\n",
    "\n",
    "In Python we can create, read, append to, and delete files.\n",
    "\n",
    "Following are the modes of file opening\n",
    "\n",
    "1. \"r\" => Read: Default value. Opens a file for reading, error if the file does not exist\n",
    "\n",
    "2. \"a\" => Append: Opens a file for appending, creates the file if it does not exist.\n",
    "\n",
    "3. \"w\" => Write: Opens a file for writing, creates the file if it does not exist\n",
    "\n",
    "4. \"x\" => Create: Creates the specified file, returns an error if the file exists\n",
    "\n",
    "Two modes of File handling\n",
    "\n",
    "1. \"t\" => Text: Default value\n",
    "\n",
    "2. \"b\" => Binary: Binary mode"
   ]
  },
  {
   "cell_type": "code",
   "execution_count": 62,
   "metadata": {},
   "outputs": [
    {
     "name": "stdout",
     "output_type": "stream",
     "text": [
      "Normal,contrast_1,contrast_2,contrast_3\n",
      "1,33,43,17\n",
      "1,141,165,35\n",
      "1,68,98,19\n",
      "1,489,453,360\n",
      "1,110,148,94\n",
      "1,174,145,18\n",
      "1,227,252,73\n",
      "1,476,518,159\n",
      "1,247,227,42\n",
      "\n"
     ]
    }
   ],
   "source": [
    "f = open(\"Normal.csv\")\n",
    "#f = open(\"Normal.csv\", \"rt\") # Read in text mode\n",
    "#print(f.read(10))\n",
    "print(f.read())\n"
   ]
  },
  {
   "cell_type": "code",
   "execution_count": 63,
   "metadata": {},
   "outputs": [
    {
     "name": "stdout",
     "output_type": "stream",
     "text": [
      "Normal,contrast_1,contrast_2,contrast_3\n",
      "\n",
      "1,33,43,17\n",
      "\n",
      "1,141,165,35\n",
      "\n",
      "1,68,98,19\n",
      "\n",
      "1,489,453,360\n",
      "\n",
      "1,110,148,94\n",
      "\n",
      "1,174,145,18\n",
      "\n",
      "1,227,252,73\n",
      "\n",
      "1,476,518,159\n",
      "\n",
      "1,247,227,42\n",
      "\n"
     ]
    }
   ],
   "source": [
    "f = open(\"Normal.csv\")\n",
    "for line in f:\n",
    "    print(line)"
   ]
  },
  {
   "cell_type": "code",
   "execution_count": 64,
   "metadata": {},
   "outputs": [
    {
     "name": "stdout",
     "output_type": "stream",
     "text": [
      "Normal,contrast_1,contrast_2,contrast_3\n",
      "\n",
      "1,33,43,17\n",
      "\n",
      "1,141,165,35\n",
      "\n",
      "1,68,98,19\n",
      "\n",
      "1,489,453,360\n",
      "\n",
      "1,110,148,94\n",
      "\n",
      "1,174,145,18\n",
      "\n",
      "1,227,252,73\n",
      "\n",
      "1,476,518,159\n",
      "\n",
      "1,247,227,42\n",
      "\n"
     ]
    }
   ],
   "source": [
    "f = open(\"Normal.csv\")\n",
    "line = f.readline()\n",
    "\n",
    "while(line):\n",
    "    print(line)\n",
    "    line = f.readline()"
   ]
  },
  {
   "cell_type": "code",
   "execution_count": 76,
   "metadata": {},
   "outputs": [
    {
     "name": "stdout",
     "output_type": "stream",
     "text": [
      "Hello, World!\n"
     ]
    }
   ],
   "source": [
    "f = open(\"TestFile.txt\", \"w\")\n",
    "f.write(\"Hello, World!\")\n",
    "f.close()\n",
    "\n",
    "f = open(\"TestFile.txt\", \"r\")\n",
    "print(f.read())\n",
    "f.close()"
   ]
  },
  {
   "cell_type": "code",
   "execution_count": 73,
   "metadata": {},
   "outputs": [
    {
     "name": "stdout",
     "output_type": "stream",
     "text": [
      "\n",
      "Again Hello, World!\n"
     ]
    }
   ],
   "source": [
    "f = open(\"TestFile.txt\", \"a\")\n",
    "f.write(\"\\nAgain Hello, World!\")\n",
    "f.close()\n",
    "\n",
    "f = open(\"TestFile.txt\", \"r\")\n",
    "print(f.read())\n",
    "f.close()"
   ]
  },
  {
   "cell_type": "code",
   "execution_count": 78,
   "metadata": {},
   "outputs": [
    {
     "name": "stdout",
     "output_type": "stream",
     "text": [
      "Hello, World!\n"
     ]
    }
   ],
   "source": [
    "# The \"with\" statement clarifies code that previously would use try and finally blocks to ensure that clean-up \n",
    "# code is executed. The with statement will automatically close the file at the end of with block. If an \n",
    "# exception occurs before the end of the block, it will close the file before the exception is caught by an \n",
    "# outer exception handler. If the nested block were to contain a return statement, or a continue or break \n",
    "# statement, the with statement will also ensure automatically closing of the file in these cases.\n",
    "\n",
    "with open(\"TestFile.txt\", \"r\") as f:\n",
    "    print(f.read())\n",
    "\n",
    "#print(f.read())    # It will throw an exception, as file 'f' is already closed at the end of \"with\" bloack.\n"
   ]
  },
  {
   "cell_type": "code",
   "execution_count": null,
   "metadata": {},
   "outputs": [],
   "source": []
  },
  {
   "cell_type": "code",
   "execution_count": 79,
   "metadata": {},
   "outputs": [],
   "source": [
    "#f = open(\"TestFile.txt\", \"x\")\n"
   ]
  },
  {
   "cell_type": "code",
   "execution_count": 80,
   "metadata": {},
   "outputs": [
    {
     "name": "stdout",
     "output_type": "stream",
     "text": [
      "File removed\n"
     ]
    }
   ],
   "source": [
    "# Deleting File\n",
    "f = open('TestFile.txt', 'w')\n",
    "\n",
    "import os\n",
    "if os.path.exists(\"TestFile.txt\"):\n",
    "    os.remove(\"TestFile.txt\")\n",
    "    print(\"File removed\")\n",
    "else:\n",
    "    print(\"There is no such file exist\")"
   ]
  },
  {
   "cell_type": "code",
   "execution_count": 81,
   "metadata": {},
   "outputs": [
    {
     "name": "stdout",
     "output_type": "stream",
     "text": [
      "There is no such file exist\n"
     ]
    }
   ],
   "source": [
    "# Deleting File\n",
    "if os.path.exists(\"TestFile.txt\"):\n",
    "    os.remove(\"TestFile.txt\")\n",
    "    print(\"File removed\")\n",
    "else:\n",
    "    print(\"There is no such file exist\")"
   ]
  },
  {
   "cell_type": "code",
   "execution_count": 82,
   "metadata": {},
   "outputs": [],
   "source": [
    "#Creating Directory\n",
    "\n",
    "import os\n",
    "os.mkdir(\"mydir\")\n"
   ]
  },
  {
   "cell_type": "code",
   "execution_count": 83,
   "metadata": {},
   "outputs": [
    {
     "name": "stdout",
     "output_type": "stream",
     "text": [
      "Deleted\n"
     ]
    }
   ],
   "source": [
    "#Deleting Directory\n",
    "\n",
    "import os\n",
    "if os.path.exists(\"mydir\"):\n",
    "    os.rmdir(\"mydir\")\n",
    "    print(\"Deleted\")\n",
    "else:\n",
    "    print(\"There is no such directory exist\")"
   ]
  },
  {
   "cell_type": "code",
   "execution_count": null,
   "metadata": {},
   "outputs": [],
   "source": []
  },
  {
   "cell_type": "code",
   "execution_count": 84,
   "metadata": {},
   "outputs": [],
   "source": [
    "## Printing, or Creating String value from, N-Dimensional array  "
   ]
  },
  {
   "cell_type": "code",
   "execution_count": 2,
   "metadata": {},
   "outputs": [],
   "source": [
    "def print_arrays(arr, str_v=\"\"):\n",
    "    i = 0\n",
    "    for a in arr:\n",
    "        if isinstance(a, list) or isinstance(a, tuple) or isinstance(a, set) or isinstance(a, np.ndarray):\n",
    "            print_arrays(a, str_v + str(i) + ',')\n",
    "        else:\n",
    "            print('(' + str_v + str(i) + ') = ' + str(a))\n",
    "        i += 1"
   ]
  },
  {
   "cell_type": "code",
   "execution_count": 9,
   "metadata": {},
   "outputs": [
    {
     "name": "stdout",
     "output_type": "stream",
     "text": [
      "(0) = 1\n",
      "(1) = 2\n",
      "(2) = 3\n"
     ]
    }
   ],
   "source": [
    "import numpy as np\n",
    "a = np.array([1,2,3])\n",
    "#print(a.shape)\n",
    "print_arrays(a)"
   ]
  },
  {
   "cell_type": "code",
   "execution_count": 10,
   "metadata": {},
   "outputs": [
    {
     "name": "stdout",
     "output_type": "stream",
     "text": [
      "(0,0) = 1\n",
      "(0,1) = 2\n",
      "(0,2) = 3\n",
      "(1,0) = 4\n",
      "(1,1) = 5\n",
      "(1,2) = 6\n"
     ]
    }
   ],
   "source": [
    "a = np.array([[1,2,3],[4,5,6]])\n",
    "#print(a.shape)\n",
    "print_arrays(a)"
   ]
  },
  {
   "cell_type": "code",
   "execution_count": 13,
   "metadata": {},
   "outputs": [
    {
     "name": "stdout",
     "output_type": "stream",
     "text": [
      "(0,0,0) = 1\n",
      "(0,0,1) = 2\n",
      "(0,0,2) = 3\n",
      "(0,1,0) = 4\n",
      "(0,1,1) = 5\n",
      "(0,1,2) = 6\n",
      "(1,0,0) = 7\n",
      "(1,0,1) = 8\n",
      "(1,0,2) = 9\n",
      "(1,1,0) = 10\n",
      "(1,1,1) = 11\n",
      "(1,1,2) = 12\n"
     ]
    }
   ],
   "source": [
    "a = np.array([[[1,2,3],[4, 5, 6 ]],\n",
    "              [[7,8,9],[10,11,12]]])\n",
    "#print(a.shape)\n",
    "print_arrays(a)"
   ]
  },
  {
   "cell_type": "code",
   "execution_count": null,
   "metadata": {},
   "outputs": [],
   "source": []
  },
  {
   "cell_type": "code",
   "execution_count": 15,
   "metadata": {},
   "outputs": [],
   "source": [
    "def print_arrays2(arr, str_v=\"\"):\n",
    "    i = 0\n",
    "    f_str = \"\"\n",
    "    for a in arr:\n",
    "        if isinstance(a, list) or isinstance(a, tuple) or isinstance(a, set) or isinstance(a, np.ndarray):\n",
    "            f_str += print_arrays2(a, str_v + str(i) + ',')\n",
    "        else:\n",
    "            f_str +=  '(' + str_v + str(i) + ') = ' + str(a) + \", \"\n",
    "        i += 1\n",
    "        \n",
    "    return f_str"
   ]
  },
  {
   "cell_type": "code",
   "execution_count": 18,
   "metadata": {},
   "outputs": [
    {
     "name": "stdout",
     "output_type": "stream",
     "text": [
      "(0,0,0) = 1, (0,0,1) = 2, (0,0,2) = 3, (0,1,0) = 4, (0,1,1) = 5, (0,1,2) = 6, (1,0,0) = 7, (1,0,1) = 8, (1,0,2) = 9, (1,1,0) = 10, (1,1,1) = 11, (1,1,2) = 12.\n"
     ]
    }
   ],
   "source": [
    "#a = np.array([1,2,3])\n",
    "#a = np.array([[1,2,3],[4,5,6]])\n",
    "a = np.array([[[1,2,3],[4, 5, 6 ]], [[7,8,9],[10,11,12]]])\n",
    "\n",
    "#print(a.shape)\n",
    "val = print_arrays2(a)\n",
    "val += ','\n",
    "val = val.replace(', ,', '.')\n",
    "print(val)"
   ]
  },
  {
   "cell_type": "code",
   "execution_count": null,
   "metadata": {},
   "outputs": [],
   "source": []
  },
  {
   "cell_type": "code",
   "execution_count": null,
   "metadata": {},
   "outputs": [],
   "source": []
  }
 ],
 "metadata": {
  "kernelspec": {
   "display_name": "Python 3 (ipykernel)",
   "language": "python",
   "name": "python3"
  },
  "language_info": {
   "codemirror_mode": {
    "name": "ipython",
    "version": 3
   },
   "file_extension": ".py",
   "mimetype": "text/x-python",
   "name": "python",
   "nbconvert_exporter": "python",
   "pygments_lexer": "ipython3",
   "version": "3.9.7"
  }
 },
 "nbformat": 4,
 "nbformat_minor": 4
}
