{
 "cells": [
  {
   "cell_type": "markdown",
   "metadata": {
    "slideshow": {
     "slide_type": "slide"
    }
   },
   "source": [
    "## Case Study: Comma Separated Values "
   ]
  },
  {
   "cell_type": "code",
   "execution_count": 2,
   "metadata": {},
   "outputs": [
    {
     "name": "stdout",
     "output_type": "stream",
     "text": [
      "res/datafile.csv\n"
     ]
    }
   ],
   "source": [
    "directory = \"res\" \n",
    "import os \n",
    "csv_filename = os.path.join(directory, 'datafile.csv')\n",
    "print (csv_filename) "
   ]
  },
  {
   "cell_type": "code",
   "execution_count": 8,
   "metadata": {
    "slideshow": {
     "slide_type": "slide"
    }
   },
   "outputs": [
    {
     "name": "stdout",
     "output_type": "stream",
     "text": [
      "['Roll no', 'Full Name', ' A1', ' A2', ' A3', ' A4']\n",
      "['p101111', 'Ali Khayam', ' 64', ' 78.5', ' 89', ' 25']\n",
      "['p101112', 'Mudasser Farooq', ' 14', ' 28.5', ' 83', ' 76']\n",
      "['p101113', 'Tamleek Ali', ' 87', ' 12', ' 1.6', ' 22']\n"
     ]
    }
   ],
   "source": [
    "with open(csv_filename, 'r') as f: \n",
    "    for line in f: \n",
    "        print (line.strip().split(','))    # let's save this in a list "
   ]
  },
  {
   "cell_type": "code",
   "execution_count": 9,
   "metadata": {
    "slideshow": {
     "slide_type": "slide"
    },
    "tags": []
   },
   "outputs": [
    {
     "data": {
      "text/plain": [
       "[['Roll no', 'Full Name', ' A1', ' A2', ' A3', ' A4'],\n",
       " ['p101111', 'Ali Khayam', ' 64', ' 78.5', ' 89', ' 25'],\n",
       " ['p101112', 'Mudasser Farooq', ' 14', ' 28.5', ' 83', ' 76'],\n",
       " ['p101113', 'Tamleek Ali', ' 87', ' 12', ' 1.6', ' 22']]"
      ]
     },
     "execution_count": 9,
     "metadata": {},
     "output_type": "execute_result"
    }
   ],
   "source": [
    "rows = [] \n",
    "\n",
    "with open(csv_filename) as f: \n",
    "    for line in f: \n",
    "        # print line.strip().split(',')   # let's save this in a list \n",
    "        rows.append(line.strip().split(','))\n",
    "rows"
   ]
  },
  {
   "cell_type": "code",
   "execution_count": 10,
   "metadata": {
    "slideshow": {
     "slide_type": "slide"
    }
   },
   "outputs": [
    {
     "data": {
      "text/plain": [
       "[['Roll no', 'Full Name', ' A1', ' A2', ' A3', ' A4'],\n",
       " ['p101111', 'Ali Khayam', 64.0, 78.5, 89.0, 25.0],\n",
       " ['p101112', 'Mudasser Farooq', 14.0, 28.5, 83.0, 76.0],\n",
       " ['p101113', 'Tamleek Ali', 87.0, 12.0, 1.6, 22.0]]"
      ]
     },
     "execution_count": 10,
     "metadata": {},
     "output_type": "execute_result"
    }
   ],
   "source": [
    "for r in rows[1:]:       # skip the header \n",
    "    for c in range(2, 6): \n",
    "        r[c] = float(r[c])\n",
    "rows"
   ]
  },
  {
   "cell_type": "markdown",
   "metadata": {
    "slideshow": {
     "slide_type": "slide"
    }
   },
   "source": [
    "### Writing CSV Files "
   ]
  },
  {
   "cell_type": "code",
   "execution_count": 11,
   "metadata": {
    "slideshow": {
     "slide_type": "fragment"
    }
   },
   "outputs": [
    {
     "data": {
      "text/plain": [
       "'a,b,c'"
      ]
     },
     "execution_count": 11,
     "metadata": {},
     "output_type": "execute_result"
    }
   ],
   "source": [
    "','.join( ['a', 'b', 'c'] )"
   ]
  },
  {
   "cell_type": "code",
   "execution_count": null,
   "metadata": {
    "slideshow": {
     "slide_type": "slide"
    }
   },
   "outputs": [],
   "source": [
    "rows "
   ]
  },
  {
   "cell_type": "code",
   "execution_count": null,
   "metadata": {
    "slideshow": {
     "slide_type": "slide"
    }
   },
   "outputs": [],
   "source": [
    "for r in rows: \n",
    "    print [str(c) for c in r]   # save this in a list         "
   ]
  },
  {
   "cell_type": "code",
   "execution_count": null,
   "metadata": {
    "slideshow": {
     "slide_type": "slide"
    },
    "tags": []
   },
   "outputs": [],
   "source": [
    "out_rows = []\n",
    "\n",
    "for r in rows: \n",
    "    r = [str(c) for c in r]   # save this in a list \n",
    "    out_rows.append(r) "
   ]
  },
  {
   "cell_type": "code",
   "execution_count": null,
   "metadata": {
    "slideshow": {
     "slide_type": "slide"
    }
   },
   "outputs": [],
   "source": [
    "out_rows"
   ]
  },
  {
   "cell_type": "code",
   "execution_count": null,
   "metadata": {
    "slideshow": {
     "slide_type": "slide"
    }
   },
   "outputs": [],
   "source": [
    "for r in out_rows: \n",
    "    out_line = ','.join(r)  # and then save this to a file \n",
    "    print (out_line)"
   ]
  },
  {
   "cell_type": "code",
   "execution_count": 12,
   "metadata": {
    "slideshow": {
     "slide_type": "subslide"
    },
    "tags": []
   },
   "outputs": [
    {
     "name": "stdout",
     "output_type": "stream",
     "text": [
      "res/datafile-out.csv\n"
     ]
    }
   ],
   "source": [
    "csv_filename_out = os.path.join(directory, 'datafile-out.csv')\n",
    "print (csv_filename_out)     "
   ]
  },
  {
   "cell_type": "code",
   "execution_count": null,
   "metadata": {
    "tags": []
   },
   "outputs": [],
   "source": [
    "csv_filename_out = os.path.join(directory, 'datafile-out.csv')"
   ]
  },
  {
   "cell_type": "code",
   "execution_count": null,
   "metadata": {
    "slideshow": {
     "slide_type": "slide"
    }
   },
   "outputs": [],
   "source": [
    "csv_filename_out = os.path.join(directory, 'datafile-out.csv')\n",
    "print (csv_filename_out)\n",
    "\n",
    "with open(csv_filename_out, 'w') as f: \n",
    "    for r in out_rows: \n",
    "        out_line = ','.join(r)  # and then save this to a file \n",
    "        f.write(out_line + \"\\n\")"
   ]
  },
  {
   "cell_type": "code",
   "execution_count": null,
   "metadata": {
    "tags": []
   },
   "outputs": [],
   "source": []
  }
 ],
 "metadata": {
  "celltoolbar": "Slideshow",
  "kernelspec": {
   "display_name": "Python 3 (ipykernel)",
   "language": "python",
   "name": "python3"
  },
  "language_info": {
   "codemirror_mode": {
    "name": "ipython",
    "version": 3
   },
   "file_extension": ".py",
   "mimetype": "text/x-python",
   "name": "python",
   "nbconvert_exporter": "python",
   "pygments_lexer": "ipython3",
   "version": "3.9.7"
  },
  "livereveal": {
   "transition": "fade"
  }
 },
 "nbformat": 4,
 "nbformat_minor": 4
}
